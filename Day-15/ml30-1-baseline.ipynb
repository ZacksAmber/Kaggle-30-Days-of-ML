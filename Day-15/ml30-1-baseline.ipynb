{
 "cells": [
  {
   "cell_type": "code",
   "execution_count": 1,
   "id": "01fca3ac-cb85-4f1b-a008-0215dcfee832",
   "metadata": {},
   "outputs": [],
   "source": [
    "# Statistics\n",
    "import pandas as pd\n",
    "import numpy as np\n",
    "import math as mt\n",
    "\n",
    "# Data Visualization\n",
    "import matplotlib.pyplot as plt\n",
    "import seaborn as sns\n",
    "\n",
    "%matplotlib inline\n",
    "\n",
    "# Data Preprocessing - Encoding and Imputation\n",
    "from sklearn.impute import SimpleImputer\n",
    "from sklearn.preprocessing import OneHotEncoder\n",
    "from sklearn.preprocessing import OrdinalEncoder\n",
    "from sklearn.compose import ColumnTransformer\n",
    "from sklearn.pipeline import Pipeline\n",
    "\n",
    "# Data Preprocessing - Feature Engineering\n",
    "from sklearn.feature_selection import mutual_info_regression\n",
    "from sklearn.decomposition import PCA\n",
    "\n",
    "# Data Preprocessing - ML Pipelines\n",
    "from sklearn.compose import ColumnTransformer\n",
    "\n",
    "# ML - Modeling\n",
    "from sklearn.model_selection import train_test_split\n",
    "from sklearn.metrics import mean_squared_error\n",
    "from xgboost import XGBRegressor\n",
    "from sklearn.ensemble import RandomForestRegressor\n",
    "from xgboost import XGBRegressor\n",
    "\n",
    "# ML - Evaluation\n",
    "from sklearn.model_selection import cross_val_score\n",
    "\n",
    "# ML - Tuning\n",
    "from sklearn.model_selection import GridSearchCV"
   ]
  },
  {
   "cell_type": "code",
   "execution_count": 2,
   "id": "137548d2-db5a-401c-8cf2-12ea91dd5ac0",
   "metadata": {},
   "outputs": [],
   "source": [
    "df = pd.read_csv('data/train.csv')"
   ]
  },
  {
   "cell_type": "code",
   "execution_count": 8,
   "id": "eea5082f-32ae-4a84-84ec-50e08ad8eb96",
   "metadata": {},
   "outputs": [
    {
     "name": "stdout",
     "output_type": "stream",
     "text": [
      "0 [     1      2      3 ... 299997 299998 299999] [     0      6     11 ... 299973 299983 299992]\n",
      "1 [     0      1      2 ... 299995 299996 299998] [     4     10     31 ... 299982 299997 299999]\n",
      "2 [     0      2      3 ... 299997 299998 299999] [     1      9     20 ... 299987 299988 299991]\n",
      "3 [     0      1      2 ... 299995 299997 299999] [     3      7      8 ... 299994 299996 299998]\n",
      "4 [     0      1      3 ... 299997 299998 299999] [     2      5     13 ... 299990 299993 299995]\n"
     ]
    }
   ],
   "source": [
    "# Mark the train dataset with kfold = 5\n",
    "from sklearn import model_selection\n",
    "\n",
    "kf = model_selection.KFold(n_splits=5, shuffle=True, random_state=42)\n",
    "for fold, (train_indicies, valid_indicies) in enumerate(kf.split(X=df)):\n",
    "    print(fold, train_indicies, valid_indicies)\n",
    "    #df.loc[valid_indicies, \"kfold\"] = fold"
   ]
  },
  {
   "cell_type": "code",
   "execution_count": 7,
   "id": "f2a82239-9d58-4632-b3d5-bc94acd74fe2",
   "metadata": {},
   "outputs": [
    {
     "data": {
      "text/plain": [
       "4"
      ]
     },
     "execution_count": 7,
     "metadata": {},
     "output_type": "execute_result"
    }
   ],
   "source": [
    "fold"
   ]
  },
  {
   "cell_type": "code",
   "execution_count": 19,
   "id": "6aa67775-cbad-4cd0-88c3-4292c8cb047b",
   "metadata": {},
   "outputs": [],
   "source": [
    "# Export train dataset with kfold mark\n",
    "df.to_csv(\"data/train_fold.csv\", index=False)"
   ]
  },
  {
   "cell_type": "code",
   "execution_count": null,
   "id": "bb7967f8-7cdf-4843-97b2-945411e8f531",
   "metadata": {},
   "outputs": [],
   "source": []
  },
  {
   "cell_type": "code",
   "execution_count": 20,
   "id": "f07829f7-6924-4302-86c5-1a502e2e844f",
   "metadata": {},
   "outputs": [],
   "source": [
    "# Read train dataset\n",
    "\n",
    "train_data = pd.read_csv('data/train_fold.csv')\n",
    "test_data = pd.read_csv('data/test.csv')\n",
    "sample_submission = pd.read_csv('data/sample_submission.csv')"
   ]
  },
  {
   "cell_type": "code",
   "execution_count": 21,
   "id": "9cfca842-6eae-45eb-873e-da28aa4382ba",
   "metadata": {},
   "outputs": [],
   "source": [
    "useful_features = [col for col in train_data.columns if col not in (\"id\", \"target\", \"kfold\")]\n",
    "cat_cols = [col for col in useful_features if \"cat\" in col]\n",
    "test_data = test_data[useful_features]"
   ]
  },
  {
   "cell_type": "code",
   "execution_count": 34,
   "id": "77df0008-46bd-423d-af43-c93e1b5ccb13",
   "metadata": {},
   "outputs": [
    {
     "data": {
      "text/html": [
       "<div>\n",
       "<style scoped>\n",
       "    .dataframe tbody tr th:only-of-type {\n",
       "        vertical-align: middle;\n",
       "    }\n",
       "\n",
       "    .dataframe tbody tr th {\n",
       "        vertical-align: top;\n",
       "    }\n",
       "\n",
       "    .dataframe thead th {\n",
       "        text-align: right;\n",
       "    }\n",
       "</style>\n",
       "<table border=\"1\" class=\"dataframe\">\n",
       "  <thead>\n",
       "    <tr style=\"text-align: right;\">\n",
       "      <th></th>\n",
       "      <th>cat0</th>\n",
       "      <th>cat1</th>\n",
       "      <th>cat2</th>\n",
       "      <th>cat3</th>\n",
       "      <th>cat4</th>\n",
       "      <th>cat5</th>\n",
       "      <th>cat6</th>\n",
       "      <th>cat7</th>\n",
       "      <th>cat8</th>\n",
       "      <th>cat9</th>\n",
       "      <th>...</th>\n",
       "      <th>cont4</th>\n",
       "      <th>cont5</th>\n",
       "      <th>cont6</th>\n",
       "      <th>cont7</th>\n",
       "      <th>cont8</th>\n",
       "      <th>cont9</th>\n",
       "      <th>cont10</th>\n",
       "      <th>cont11</th>\n",
       "      <th>cont12</th>\n",
       "      <th>cont13</th>\n",
       "    </tr>\n",
       "  </thead>\n",
       "  <tbody>\n",
       "    <tr>\n",
       "      <th>0</th>\n",
       "      <td>1.0</td>\n",
       "      <td>1.0</td>\n",
       "      <td>1.0</td>\n",
       "      <td>2.0</td>\n",
       "      <td>1.0</td>\n",
       "      <td>1.0</td>\n",
       "      <td>0.0</td>\n",
       "      <td>4.0</td>\n",
       "      <td>4.0</td>\n",
       "      <td>8.0</td>\n",
       "      <td>...</td>\n",
       "      <td>0.476739</td>\n",
       "      <td>0.376350</td>\n",
       "      <td>0.337884</td>\n",
       "      <td>0.321832</td>\n",
       "      <td>0.445212</td>\n",
       "      <td>0.290258</td>\n",
       "      <td>0.244476</td>\n",
       "      <td>0.087914</td>\n",
       "      <td>0.301831</td>\n",
       "      <td>0.845702</td>\n",
       "    </tr>\n",
       "    <tr>\n",
       "      <th>1</th>\n",
       "      <td>0.0</td>\n",
       "      <td>1.0</td>\n",
       "      <td>0.0</td>\n",
       "      <td>2.0</td>\n",
       "      <td>1.0</td>\n",
       "      <td>2.0</td>\n",
       "      <td>0.0</td>\n",
       "      <td>4.0</td>\n",
       "      <td>2.0</td>\n",
       "      <td>7.0</td>\n",
       "      <td>...</td>\n",
       "      <td>0.285509</td>\n",
       "      <td>0.860046</td>\n",
       "      <td>0.798712</td>\n",
       "      <td>0.835961</td>\n",
       "      <td>0.391657</td>\n",
       "      <td>0.288276</td>\n",
       "      <td>0.549568</td>\n",
       "      <td>0.905097</td>\n",
       "      <td>0.850684</td>\n",
       "      <td>0.693940</td>\n",
       "    </tr>\n",
       "    <tr>\n",
       "      <th>2</th>\n",
       "      <td>1.0</td>\n",
       "      <td>0.0</td>\n",
       "      <td>0.0</td>\n",
       "      <td>0.0</td>\n",
       "      <td>1.0</td>\n",
       "      <td>1.0</td>\n",
       "      <td>0.0</td>\n",
       "      <td>4.0</td>\n",
       "      <td>3.0</td>\n",
       "      <td>10.0</td>\n",
       "      <td>...</td>\n",
       "      <td>0.697272</td>\n",
       "      <td>0.683600</td>\n",
       "      <td>0.404089</td>\n",
       "      <td>0.879379</td>\n",
       "      <td>0.275549</td>\n",
       "      <td>0.427871</td>\n",
       "      <td>0.491667</td>\n",
       "      <td>0.384315</td>\n",
       "      <td>0.376689</td>\n",
       "      <td>0.508099</td>\n",
       "    </tr>\n",
       "    <tr>\n",
       "      <th>3</th>\n",
       "      <td>1.0</td>\n",
       "      <td>1.0</td>\n",
       "      <td>0.0</td>\n",
       "      <td>2.0</td>\n",
       "      <td>1.0</td>\n",
       "      <td>3.0</td>\n",
       "      <td>0.0</td>\n",
       "      <td>4.0</td>\n",
       "      <td>0.0</td>\n",
       "      <td>13.0</td>\n",
       "      <td>...</td>\n",
       "      <td>0.719306</td>\n",
       "      <td>0.777890</td>\n",
       "      <td>0.730954</td>\n",
       "      <td>0.644315</td>\n",
       "      <td>1.024017</td>\n",
       "      <td>0.391090</td>\n",
       "      <td>0.988340</td>\n",
       "      <td>0.411828</td>\n",
       "      <td>0.393585</td>\n",
       "      <td>0.461372</td>\n",
       "    </tr>\n",
       "    <tr>\n",
       "      <th>4</th>\n",
       "      <td>1.0</td>\n",
       "      <td>1.0</td>\n",
       "      <td>0.0</td>\n",
       "      <td>2.0</td>\n",
       "      <td>1.0</td>\n",
       "      <td>2.0</td>\n",
       "      <td>0.0</td>\n",
       "      <td>4.0</td>\n",
       "      <td>2.0</td>\n",
       "      <td>5.0</td>\n",
       "      <td>...</td>\n",
       "      <td>0.313032</td>\n",
       "      <td>0.431007</td>\n",
       "      <td>0.390992</td>\n",
       "      <td>0.408874</td>\n",
       "      <td>0.447887</td>\n",
       "      <td>0.390253</td>\n",
       "      <td>0.648932</td>\n",
       "      <td>0.385935</td>\n",
       "      <td>0.370401</td>\n",
       "      <td>0.900412</td>\n",
       "    </tr>\n",
       "    <tr>\n",
       "      <th>...</th>\n",
       "      <td>...</td>\n",
       "      <td>...</td>\n",
       "      <td>...</td>\n",
       "      <td>...</td>\n",
       "      <td>...</td>\n",
       "      <td>...</td>\n",
       "      <td>...</td>\n",
       "      <td>...</td>\n",
       "      <td>...</td>\n",
       "      <td>...</td>\n",
       "      <td>...</td>\n",
       "      <td>...</td>\n",
       "      <td>...</td>\n",
       "      <td>...</td>\n",
       "      <td>...</td>\n",
       "      <td>...</td>\n",
       "      <td>...</td>\n",
       "      <td>...</td>\n",
       "      <td>...</td>\n",
       "      <td>...</td>\n",
       "      <td>...</td>\n",
       "    </tr>\n",
       "    <tr>\n",
       "      <th>199995</th>\n",
       "      <td>1.0</td>\n",
       "      <td>0.0</td>\n",
       "      <td>0.0</td>\n",
       "      <td>2.0</td>\n",
       "      <td>1.0</td>\n",
       "      <td>3.0</td>\n",
       "      <td>0.0</td>\n",
       "      <td>4.0</td>\n",
       "      <td>4.0</td>\n",
       "      <td>8.0</td>\n",
       "      <td>...</td>\n",
       "      <td>0.287454</td>\n",
       "      <td>0.543800</td>\n",
       "      <td>0.682378</td>\n",
       "      <td>1.028978</td>\n",
       "      <td>1.022741</td>\n",
       "      <td>0.683903</td>\n",
       "      <td>0.877273</td>\n",
       "      <td>0.532410</td>\n",
       "      <td>0.605397</td>\n",
       "      <td>0.884581</td>\n",
       "    </tr>\n",
       "    <tr>\n",
       "      <th>199996</th>\n",
       "      <td>1.0</td>\n",
       "      <td>0.0</td>\n",
       "      <td>0.0</td>\n",
       "      <td>2.0</td>\n",
       "      <td>1.0</td>\n",
       "      <td>1.0</td>\n",
       "      <td>0.0</td>\n",
       "      <td>4.0</td>\n",
       "      <td>2.0</td>\n",
       "      <td>5.0</td>\n",
       "      <td>...</td>\n",
       "      <td>0.794881</td>\n",
       "      <td>0.432778</td>\n",
       "      <td>0.389775</td>\n",
       "      <td>0.359871</td>\n",
       "      <td>0.550013</td>\n",
       "      <td>0.492082</td>\n",
       "      <td>0.202295</td>\n",
       "      <td>0.416875</td>\n",
       "      <td>0.406205</td>\n",
       "      <td>0.758665</td>\n",
       "    </tr>\n",
       "    <tr>\n",
       "      <th>199997</th>\n",
       "      <td>0.0</td>\n",
       "      <td>1.0</td>\n",
       "      <td>1.0</td>\n",
       "      <td>2.0</td>\n",
       "      <td>1.0</td>\n",
       "      <td>1.0</td>\n",
       "      <td>0.0</td>\n",
       "      <td>4.0</td>\n",
       "      <td>2.0</td>\n",
       "      <td>8.0</td>\n",
       "      <td>...</td>\n",
       "      <td>0.514487</td>\n",
       "      <td>0.060997</td>\n",
       "      <td>0.171741</td>\n",
       "      <td>0.317185</td>\n",
       "      <td>0.150340</td>\n",
       "      <td>0.122109</td>\n",
       "      <td>0.390524</td>\n",
       "      <td>0.334026</td>\n",
       "      <td>0.378987</td>\n",
       "      <td>0.839416</td>\n",
       "    </tr>\n",
       "    <tr>\n",
       "      <th>199998</th>\n",
       "      <td>0.0</td>\n",
       "      <td>0.0</td>\n",
       "      <td>0.0</td>\n",
       "      <td>2.0</td>\n",
       "      <td>1.0</td>\n",
       "      <td>3.0</td>\n",
       "      <td>0.0</td>\n",
       "      <td>3.0</td>\n",
       "      <td>0.0</td>\n",
       "      <td>5.0</td>\n",
       "      <td>...</td>\n",
       "      <td>0.286144</td>\n",
       "      <td>1.061710</td>\n",
       "      <td>0.819811</td>\n",
       "      <td>0.901241</td>\n",
       "      <td>0.555339</td>\n",
       "      <td>0.844315</td>\n",
       "      <td>0.894193</td>\n",
       "      <td>0.794102</td>\n",
       "      <td>0.844279</td>\n",
       "      <td>0.890473</td>\n",
       "    </tr>\n",
       "    <tr>\n",
       "      <th>199999</th>\n",
       "      <td>0.0</td>\n",
       "      <td>0.0</td>\n",
       "      <td>0.0</td>\n",
       "      <td>2.0</td>\n",
       "      <td>1.0</td>\n",
       "      <td>3.0</td>\n",
       "      <td>0.0</td>\n",
       "      <td>4.0</td>\n",
       "      <td>0.0</td>\n",
       "      <td>9.0</td>\n",
       "      <td>...</td>\n",
       "      <td>0.286755</td>\n",
       "      <td>1.065725</td>\n",
       "      <td>0.687682</td>\n",
       "      <td>0.654738</td>\n",
       "      <td>0.574575</td>\n",
       "      <td>0.617467</td>\n",
       "      <td>0.694336</td>\n",
       "      <td>0.745698</td>\n",
       "      <td>0.568525</td>\n",
       "      <td>0.783568</td>\n",
       "    </tr>\n",
       "  </tbody>\n",
       "</table>\n",
       "<p>200000 rows × 24 columns</p>\n",
       "</div>"
      ],
      "text/plain": [
       "        cat0  cat1  cat2  cat3  cat4  cat5  cat6  cat7  cat8  cat9  ...  \\\n",
       "0        1.0   1.0   1.0   2.0   1.0   1.0   0.0   4.0   4.0   8.0  ...   \n",
       "1        0.0   1.0   0.0   2.0   1.0   2.0   0.0   4.0   2.0   7.0  ...   \n",
       "2        1.0   0.0   0.0   0.0   1.0   1.0   0.0   4.0   3.0  10.0  ...   \n",
       "3        1.0   1.0   0.0   2.0   1.0   3.0   0.0   4.0   0.0  13.0  ...   \n",
       "4        1.0   1.0   0.0   2.0   1.0   2.0   0.0   4.0   2.0   5.0  ...   \n",
       "...      ...   ...   ...   ...   ...   ...   ...   ...   ...   ...  ...   \n",
       "199995   1.0   0.0   0.0   2.0   1.0   3.0   0.0   4.0   4.0   8.0  ...   \n",
       "199996   1.0   0.0   0.0   2.0   1.0   1.0   0.0   4.0   2.0   5.0  ...   \n",
       "199997   0.0   1.0   1.0   2.0   1.0   1.0   0.0   4.0   2.0   8.0  ...   \n",
       "199998   0.0   0.0   0.0   2.0   1.0   3.0   0.0   3.0   0.0   5.0  ...   \n",
       "199999   0.0   0.0   0.0   2.0   1.0   3.0   0.0   4.0   0.0   9.0  ...   \n",
       "\n",
       "           cont4     cont5     cont6     cont7     cont8     cont9    cont10  \\\n",
       "0       0.476739  0.376350  0.337884  0.321832  0.445212  0.290258  0.244476   \n",
       "1       0.285509  0.860046  0.798712  0.835961  0.391657  0.288276  0.549568   \n",
       "2       0.697272  0.683600  0.404089  0.879379  0.275549  0.427871  0.491667   \n",
       "3       0.719306  0.777890  0.730954  0.644315  1.024017  0.391090  0.988340   \n",
       "4       0.313032  0.431007  0.390992  0.408874  0.447887  0.390253  0.648932   \n",
       "...          ...       ...       ...       ...       ...       ...       ...   \n",
       "199995  0.287454  0.543800  0.682378  1.028978  1.022741  0.683903  0.877273   \n",
       "199996  0.794881  0.432778  0.389775  0.359871  0.550013  0.492082  0.202295   \n",
       "199997  0.514487  0.060997  0.171741  0.317185  0.150340  0.122109  0.390524   \n",
       "199998  0.286144  1.061710  0.819811  0.901241  0.555339  0.844315  0.894193   \n",
       "199999  0.286755  1.065725  0.687682  0.654738  0.574575  0.617467  0.694336   \n",
       "\n",
       "          cont11    cont12    cont13  \n",
       "0       0.087914  0.301831  0.845702  \n",
       "1       0.905097  0.850684  0.693940  \n",
       "2       0.384315  0.376689  0.508099  \n",
       "3       0.411828  0.393585  0.461372  \n",
       "4       0.385935  0.370401  0.900412  \n",
       "...          ...       ...       ...  \n",
       "199995  0.532410  0.605397  0.884581  \n",
       "199996  0.416875  0.406205  0.758665  \n",
       "199997  0.334026  0.378987  0.839416  \n",
       "199998  0.794102  0.844279  0.890473  \n",
       "199999  0.745698  0.568525  0.783568  \n",
       "\n",
       "[200000 rows x 24 columns]"
      ]
     },
     "execution_count": 34,
     "metadata": {},
     "output_type": "execute_result"
    }
   ],
   "source": [
    "X_test"
   ]
  },
  {
   "cell_type": "code",
   "execution_count": 43,
   "id": "3acffa4a-3d48-48f5-998c-8dce84fe4e5e",
   "metadata": {},
   "outputs": [
    {
     "name": "stdout",
     "output_type": "stream",
     "text": [
      "0 0.7242812912900478\n",
      "1 0.7232810321072864\n",
      "2 0.725452249623988\n",
      "3 0.725286377838993\n",
      "4 0.7242629367174095\n"
     ]
    }
   ],
   "source": [
    "final_predictions = []\n",
    "for fold in range(5):\n",
    "    X_train = train_data[train_data.kfold != fold].reset_index(drop=True)\n",
    "    X_valid = train_data[train_data.kfold == fold].reset_index(drop=True)\n",
    "    X_test = test_data.copy()\n",
    "    \n",
    "    y_train = X_train.target\n",
    "    y_valid = X_valid.target\n",
    "    \n",
    "    X_train = X_train[useful_features]\n",
    "    X_valid = X_valid[useful_features]\n",
    "    \n",
    "    #print(\"encoding\")\n",
    "    ordinal_encoder = OrdinalEncoder()\n",
    "    X_train[cat_cols] = ordinal_encoder.fit_transform(X_train[cat_cols])\n",
    "    X_valid[cat_cols] = ordinal_encoder.transform(X_valid[cat_cols])\n",
    "    X_test[cat_cols] = ordinal_encoder.transform(X_test[cat_cols]) # Q. The last transform\n",
    "    \n",
    "    #print(\"training\")\n",
    "    #model = RandomForestRegressor(random_state=fold, n_jobs=-1)\n",
    "    model = XGBRegressor(random_state=fold, n_jobs=8)\n",
    "    model.fit(X_train, y_train)\n",
    "    preds_valid = model.predict(X_valid)\n",
    "    test_preds = model.predict(X_test)\n",
    "    final_predictions.append(test_preds)\n",
    "    \n",
    "    print(fold, mean_squared_error(y_valid, preds_valid, squared=False))"
   ]
  },
  {
   "cell_type": "code",
   "execution_count": 44,
   "id": "cf147f24-a004-4d1b-b2b6-3810468f9aab",
   "metadata": {},
   "outputs": [
    {
     "data": {
      "text/plain": [
       "(200000, 5)"
      ]
     },
     "execution_count": 44,
     "metadata": {},
     "output_type": "execute_result"
    }
   ],
   "source": [
    "np.column_stack(final_predictions).shape"
   ]
  },
  {
   "cell_type": "code",
   "execution_count": 45,
   "id": "084ab6b8-62e0-4317-a502-7c92210d487c",
   "metadata": {},
   "outputs": [
    {
     "data": {
      "text/plain": [
       "array([[8.079589 , 8.039468 , 7.961714 , 7.8637094, 7.976139 ],\n",
       "       [8.331573 , 8.284987 , 8.272598 , 8.327856 , 8.320301 ],\n",
       "       [8.423865 , 8.445584 , 8.369508 , 8.327526 , 8.199669 ],\n",
       "       ...,\n",
       "       [8.257159 , 8.337429 , 8.588288 , 8.460814 , 8.394254 ],\n",
       "       [8.299861 , 8.049863 , 8.017136 , 8.097175 , 8.053148 ],\n",
       "       [7.9633756, 7.8542085, 7.976585 , 7.896254 , 7.967789 ]],\n",
       "      dtype=float32)"
      ]
     },
     "execution_count": 45,
     "metadata": {},
     "output_type": "execute_result"
    }
   ],
   "source": [
    "np.column_stack(final_predictions)"
   ]
  },
  {
   "cell_type": "code",
   "execution_count": 48,
   "id": "6163bce2-cebc-4f5d-bef7-3c9bcc0570d1",
   "metadata": {},
   "outputs": [
    {
     "data": {
      "text/plain": [
       "array([7.984124, 8.307463, 8.35323 , ..., 8.407589, 8.103436, 7.931642],\n",
       "      dtype=float32)"
      ]
     },
     "execution_count": 48,
     "metadata": {},
     "output_type": "execute_result"
    }
   ],
   "source": [
    "np.mean(np.column_stack(final_predictions), axis=1)"
   ]
  },
  {
   "cell_type": "code",
   "execution_count": 51,
   "id": "5aceda07-69fa-4c38-8833-40521afcb39a",
   "metadata": {},
   "outputs": [],
   "source": [
    "preds = np.mean(np.column_stack(final_predictions), axis=1)"
   ]
  },
  {
   "cell_type": "code",
   "execution_count": 52,
   "id": "563b1e21-d4ef-45be-bf71-2459048191bb",
   "metadata": {},
   "outputs": [],
   "source": [
    "preds = pd.DataFrame({'id': sample_submission.id, 'target': preds})"
   ]
  },
  {
   "cell_type": "code",
   "execution_count": 54,
   "id": "0fcb37d1-5d1c-44bf-8324-7e9865c909d2",
   "metadata": {},
   "outputs": [],
   "source": [
    "preds.to_csv('submission.csv', index=False)"
   ]
  },
  {
   "cell_type": "code",
   "execution_count": null,
   "id": "1971cd3f-166a-403a-9187-3eddc2dbce46",
   "metadata": {},
   "outputs": [],
   "source": []
  },
  {
   "cell_type": "code",
   "execution_count": null,
   "id": "5a498379-1719-4952-8b0f-b903b7a0f85a",
   "metadata": {},
   "outputs": [],
   "source": []
  },
  {
   "cell_type": "code",
   "execution_count": null,
   "id": "0f8f9149-53d8-4229-99ef-7492ccb7063f",
   "metadata": {},
   "outputs": [],
   "source": []
  },
  {
   "cell_type": "code",
   "execution_count": 14,
   "id": "3e524c8b-28ae-444f-a103-ecefb68e9794",
   "metadata": {},
   "outputs": [
    {
     "data": {
      "text/plain": [
       "array([1.09861229])"
      ]
     },
     "execution_count": 14,
     "metadata": {},
     "output_type": "execute_result"
    }
   ],
   "source": [
    "np.log1p([2])"
   ]
  },
  {
   "cell_type": "code",
   "execution_count": 12,
   "id": "3441343b-a884-4407-bc5a-1bc981b61e33",
   "metadata": {},
   "outputs": [
    {
     "data": {
      "text/plain": [
       "0.6931471805599453"
      ]
     },
     "execution_count": 12,
     "metadata": {},
     "output_type": "execute_result"
    }
   ],
   "source": [
    "mt.log1p(1)"
   ]
  },
  {
   "cell_type": "code",
   "execution_count": 15,
   "id": "ab0305f0-de31-4dc7-a646-c3b4bc72810c",
   "metadata": {},
   "outputs": [
    {
     "data": {
      "text/plain": [
       "1.0986122886681098"
      ]
     },
     "execution_count": 15,
     "metadata": {},
     "output_type": "execute_result"
    }
   ],
   "source": [
    "mt.log(2+1)"
   ]
  },
  {
   "cell_type": "code",
   "execution_count": 17,
   "id": "e5b50eed-8fee-435b-bcc5-bdfe8b65ecbb",
   "metadata": {},
   "outputs": [
    {
     "ename": "NameError",
     "evalue": "name 'X_train' is not defined",
     "output_type": "error",
     "traceback": [
      "\u001b[0;31m---------------------------------------------------------------------------\u001b[0m",
      "\u001b[0;31mNameError\u001b[0m                                 Traceback (most recent call last)",
      "\u001b[0;32m<ipython-input-17-b37c846080d8>\u001b[0m in \u001b[0;36m<module>\u001b[0;34m\u001b[0m\n\u001b[0;32m----> 1\u001b[0;31m \u001b[0;32massert\u001b[0m \u001b[0mX_train\u001b[0m\u001b[0;34m.\u001b[0m\u001b[0mcolumns\u001b[0m \u001b[0;34m==\u001b[0m \u001b[0mX_test\u001b[0m\u001b[0;34m.\u001b[0m\u001b[0mcolumns\u001b[0m\u001b[0;34m,\u001b[0m \u001b[0;34m'ValueError: Columns of X_train are not equal to columns of X_test'\u001b[0m\u001b[0;34m\u001b[0m\u001b[0;34m\u001b[0m\u001b[0m\n\u001b[0m",
      "\u001b[0;31mNameError\u001b[0m: name 'X_train' is not defined"
     ]
    }
   ],
   "source": [
    "assert X_train.columns == X_test.columns, 'ValueError: Columns of X_train are not equal to columns of X_test'"
   ]
  },
  {
   "cell_type": "code",
   "execution_count": null,
   "id": "7ce6aefe-8e11-4760-8b9a-32ccdcc4e8e6",
   "metadata": {},
   "outputs": [],
   "source": []
  }
 ],
 "metadata": {
  "kernelspec": {
   "display_name": "Python 3",
   "language": "python",
   "name": "python3"
  },
  "language_info": {
   "codemirror_mode": {
    "name": "ipython",
    "version": 3
   },
   "file_extension": ".py",
   "mimetype": "text/x-python",
   "name": "python",
   "nbconvert_exporter": "python",
   "pygments_lexer": "ipython3",
   "version": "3.9.4"
  }
 },
 "nbformat": 4,
 "nbformat_minor": 5
}
