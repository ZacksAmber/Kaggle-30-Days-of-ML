{
 "cells": [
  {
   "cell_type": "markdown",
   "id": "d24e18a2-691b-4fc0-9920-22e05cb23ad0",
   "metadata": {},
   "source": [
    "# Kaggle 30 Days of Machine Learning\n",
    "\n",
    "---\n",
    "\n",
    "## Introduction\n",
    "\n",
    "For this competition, you will be predicting a continuous `target` based on a number of feature columns given in the data. All of the feature columns, `cat0` - `cat9` are categorical, and the feature columns `cont0` - `cont13` are continuous.\n",
    "\n",
    "**Files**\n",
    "- **train.csv** - the training data with the `target` column\n",
    "- **test.csv** - the test set; you will be predicting the `target` for each row in this file\n",
    "- **sample_submission.csv** - a sample submission file in the correct format"
   ]
  },
  {
   "cell_type": "markdown",
   "id": "650520fc-2348-48e8-a536-22075d94426a",
   "metadata": {},
   "source": [
    "---\n",
    "\n",
    "## Dependencies"
   ]
  },
  {
   "cell_type": "code",
   "execution_count": 1,
   "id": "87f94b05-7880-4d3b-a32a-9a077380d26f",
   "metadata": {},
   "outputs": [
    {
     "name": "stdout",
     "output_type": "stream",
     "text": [
      "time: 145 ms (started: 2021-08-17 14:35:43 -07:00)\n"
     ]
    }
   ],
   "source": [
    "############\n",
    "# Packages #\n",
    "############\n",
    "import warnings\n",
    "warnings.simplefilter(action='ignore', category=FutureWarning)\n",
    "\n",
    "import pandas as pd\n",
    "import numpy as np\n",
    "\n",
    "import matplotlib.pyplot as plt\n",
    "import seaborn as sns\n",
    "import plotly.express as px\n",
    "import plotly.graph_objects as go\n",
    "import plotly.io as pio\n",
    "\n",
    "import math as mt\n",
    "import scipy\n",
    "from scipy import stats\n",
    "import sklearn\n",
    "from sklearn.model_selection import train_test_split\n",
    "# import tensorflow as tf\n",
    "# import tensorflow_probability as tfp\n",
    "# import datascientists as ds\n",
    "\n",
    "%matplotlib inline\n",
    "try:\n",
    "    %load_ext autotime\n",
    "except:\n",
    "    !pip install autotime\n",
    "    %load_ext autotime\n",
    "\n",
    "############\n",
    "# Settings #\n",
    "############\n",
    "# Pandas Settings\n",
    "pd.set_option('max_rows', 20)\n",
    "pd.set_option('display.colheader_justify', 'left')\n",
    "# plotly.express Settings\n",
    "#   px.defaults.template = 'plotly_white' # \"plotly\", \"plotly_white\", \"plotly_dark\", \"ggplot2\", \"seaborn\", \"simple_white\", \"none\"\n",
    "px.defaults.width = 1200\n",
    "px.defaults.height = 800\n",
    "# plotly.io Settings for both plotly.graph_objects and plotly.express\n",
    "pio.templates.default = \"plotly_white\" # \"plotly\", \"plotly_white\", \"plotly_dark\", \"ggplot2\", \"seaborn\", \"simple_white\", \"none\"\n",
    "pio.kaleido.scope.default_format = 'svg'\n",
    "pio.kaleido.scope.default_scale = 1\n",
    "# Config for fig\n",
    "#   https://plotly.com/python/configuration-options/\n",
    "#   https://github.com/plotly/plotly.js/blob/master/src/plot_api/plot_config.js\n",
    "config = {\n",
    "    'editable': True, # Axes editable\n",
    "    'toImageButtonOptions': {\n",
    "        'format': 'svg', # one of png, svg, jpeg, webp\n",
    "        'filename': 'fig',\n",
    "        'height': None, # Set to download at the currently-rendered size by setting height and width to None\n",
    "        'width': None, # # Set to download at the currently-rendered size by setting height and width to None\n",
    "        'scale': 1 # Multiply title/legend/axis/canvas sizes by this factor\n",
    "      }, \n",
    "    'scrollZoom': True, \n",
    "    'doubleClick': 'reset+autosize', \n",
    "    'showSources': False\n",
    "}\n",
    "\n",
    "#############\n",
    "# Documents #\n",
    "#############\n",
    "# IPython\n",
    "#    https://ipython.org/ipython-doc/stable/interactive/reference.html#dynamic-object-information\n",
    "# Pandas\n",
    "#    https://pandas.pydata.org/pandas-docs/stable/reference/index.html#api\n",
    "# Numpy\n",
    "#    https://numpy.org/doc/stable/reference/index.html\n",
    "# Matplotlib\n",
    "#    https://matplotlib.org/stable/api/\n",
    "# Plotly\n",
    "#    https://plotly.com/python-api-reference/index.html\n",
    "# Plotly - Image Export Settings (Kaleido)\n",
    "#    https://plotly.com/python/static-image-export/\n",
    "# math\n",
    "#    https://docs.python.org/3/library/math.html\n",
    "# Statistical functions (scipy.stats)\n",
    "#    https://docs.scipy.org/doc/scipy/reference/stats.html\n",
    "# scikit-learn\n",
    "#    https://scikit-learn.org/stable/\n",
    "# TensorFlow\n",
    "#    https://www.tensorflow.org/api_docs/python/tf\n",
    "# TensorFlow Probability\n",
    "#    https://www.tensorflow.org/probability\n",
    "# datascientists\n",
    "#    https://github.com/ZacksAmber/datascientists"
   ]
  },
  {
   "cell_type": "markdown",
   "id": "ae4fa191-451b-4799-ae59-e2a988b2bba7",
   "metadata": {},
   "source": [
    "---\n",
    "\n",
    "## Import Dataset"
   ]
  },
  {
   "cell_type": "code",
   "execution_count": 33,
   "id": "9006e12e-551b-4254-a02d-2b376d23c519",
   "metadata": {},
   "outputs": [
    {
     "name": "stdout",
     "output_type": "stream",
     "text": [
      "./data/test.csv\n",
      "./data/train.csv\n",
      "./data/sample_submission.csv\n",
      "./data/.ipynb_checkpoints/sample_submission-checkpoint.csv\n",
      "time: 2.28 ms (started: 2021-08-17 15:07:25 -07:00)\n"
     ]
    }
   ],
   "source": [
    "import os\n",
    "kaggle_project = '30-days-of-ml'\n",
    "data_dir = ('./data' if os.path.exists('data') else f'/kaggle/input/{kaggle_project}')\n",
    "\n",
    "for dirname, _, filenames in os.walk(data_dir):\n",
    "    for filename in filenames:\n",
    "        print(os.path.join(dirname, filename))"
   ]
  },
  {
   "cell_type": "code",
   "execution_count": 34,
   "id": "a2ac57c5-39f7-40dd-9c35-c435f707958e",
   "metadata": {},
   "outputs": [
    {
     "data": {
      "text/html": [
       "<div>\n",
       "<style scoped>\n",
       "    .dataframe tbody tr th:only-of-type {\n",
       "        vertical-align: middle;\n",
       "    }\n",
       "\n",
       "    .dataframe tbody tr th {\n",
       "        vertical-align: top;\n",
       "    }\n",
       "\n",
       "    .dataframe thead th {\n",
       "        text-align: right;\n",
       "    }\n",
       "</style>\n",
       "<table border=\"1\" class=\"dataframe\">\n",
       "  <thead>\n",
       "    <tr style=\"text-align: left;\">\n",
       "      <th></th>\n",
       "      <th>id</th>\n",
       "      <th>cat0</th>\n",
       "      <th>cat1</th>\n",
       "      <th>cat2</th>\n",
       "      <th>cat3</th>\n",
       "      <th>cat4</th>\n",
       "      <th>cat5</th>\n",
       "      <th>cat6</th>\n",
       "      <th>cat7</th>\n",
       "      <th>cat8</th>\n",
       "      <th>...</th>\n",
       "      <th>cont5</th>\n",
       "      <th>cont6</th>\n",
       "      <th>cont7</th>\n",
       "      <th>cont8</th>\n",
       "      <th>cont9</th>\n",
       "      <th>cont10</th>\n",
       "      <th>cont11</th>\n",
       "      <th>cont12</th>\n",
       "      <th>cont13</th>\n",
       "      <th>target</th>\n",
       "    </tr>\n",
       "  </thead>\n",
       "  <tbody>\n",
       "    <tr>\n",
       "      <th>0</th>\n",
       "      <td>1</td>\n",
       "      <td>B</td>\n",
       "      <td>B</td>\n",
       "      <td>B</td>\n",
       "      <td>C</td>\n",
       "      <td>B</td>\n",
       "      <td>B</td>\n",
       "      <td>A</td>\n",
       "      <td>E</td>\n",
       "      <td>C</td>\n",
       "      <td>...</td>\n",
       "      <td>0.400361</td>\n",
       "      <td>0.160266</td>\n",
       "      <td>0.310921</td>\n",
       "      <td>0.389470</td>\n",
       "      <td>0.267559</td>\n",
       "      <td>0.237281</td>\n",
       "      <td>0.377873</td>\n",
       "      <td>0.322401</td>\n",
       "      <td>0.869850</td>\n",
       "      <td>8.113634</td>\n",
       "    </tr>\n",
       "    <tr>\n",
       "      <th>1</th>\n",
       "      <td>2</td>\n",
       "      <td>B</td>\n",
       "      <td>B</td>\n",
       "      <td>A</td>\n",
       "      <td>A</td>\n",
       "      <td>B</td>\n",
       "      <td>D</td>\n",
       "      <td>A</td>\n",
       "      <td>F</td>\n",
       "      <td>A</td>\n",
       "      <td>...</td>\n",
       "      <td>0.533087</td>\n",
       "      <td>0.558922</td>\n",
       "      <td>0.516294</td>\n",
       "      <td>0.594928</td>\n",
       "      <td>0.341439</td>\n",
       "      <td>0.906013</td>\n",
       "      <td>0.921701</td>\n",
       "      <td>0.261975</td>\n",
       "      <td>0.465083</td>\n",
       "      <td>8.481233</td>\n",
       "    </tr>\n",
       "    <tr>\n",
       "      <th>2</th>\n",
       "      <td>3</td>\n",
       "      <td>A</td>\n",
       "      <td>A</td>\n",
       "      <td>A</td>\n",
       "      <td>C</td>\n",
       "      <td>B</td>\n",
       "      <td>D</td>\n",
       "      <td>A</td>\n",
       "      <td>D</td>\n",
       "      <td>A</td>\n",
       "      <td>...</td>\n",
       "      <td>0.650609</td>\n",
       "      <td>0.375348</td>\n",
       "      <td>0.902567</td>\n",
       "      <td>0.555205</td>\n",
       "      <td>0.843531</td>\n",
       "      <td>0.748809</td>\n",
       "      <td>0.620126</td>\n",
       "      <td>0.541474</td>\n",
       "      <td>0.763846</td>\n",
       "      <td>8.364351</td>\n",
       "    </tr>\n",
       "    <tr>\n",
       "      <th>3</th>\n",
       "      <td>4</td>\n",
       "      <td>B</td>\n",
       "      <td>B</td>\n",
       "      <td>A</td>\n",
       "      <td>C</td>\n",
       "      <td>B</td>\n",
       "      <td>D</td>\n",
       "      <td>A</td>\n",
       "      <td>E</td>\n",
       "      <td>C</td>\n",
       "      <td>...</td>\n",
       "      <td>0.668980</td>\n",
       "      <td>0.239061</td>\n",
       "      <td>0.732948</td>\n",
       "      <td>0.679618</td>\n",
       "      <td>0.574844</td>\n",
       "      <td>0.346010</td>\n",
       "      <td>0.714610</td>\n",
       "      <td>0.540150</td>\n",
       "      <td>0.280682</td>\n",
       "      <td>8.049253</td>\n",
       "    </tr>\n",
       "    <tr>\n",
       "      <th>4</th>\n",
       "      <td>6</td>\n",
       "      <td>A</td>\n",
       "      <td>A</td>\n",
       "      <td>A</td>\n",
       "      <td>C</td>\n",
       "      <td>B</td>\n",
       "      <td>D</td>\n",
       "      <td>A</td>\n",
       "      <td>E</td>\n",
       "      <td>A</td>\n",
       "      <td>...</td>\n",
       "      <td>0.686964</td>\n",
       "      <td>0.420667</td>\n",
       "      <td>0.648182</td>\n",
       "      <td>0.684501</td>\n",
       "      <td>0.956692</td>\n",
       "      <td>1.000773</td>\n",
       "      <td>0.776742</td>\n",
       "      <td>0.625849</td>\n",
       "      <td>0.250823</td>\n",
       "      <td>7.972260</td>\n",
       "    </tr>\n",
       "  </tbody>\n",
       "</table>\n",
       "<p>5 rows × 26 columns</p>\n",
       "</div>"
      ],
      "text/plain": [
       "   id cat0 cat1 cat2 cat3 cat4 cat5 cat6 cat7 cat8  ... cont5      cont6     \\\n",
       "0  1   B    B    B    C    B    B    A    E    C    ...  0.400361  0.160266   \n",
       "1  2   B    B    A    A    B    D    A    F    A    ...  0.533087  0.558922   \n",
       "2  3   A    A    A    C    B    D    A    D    A    ...  0.650609  0.375348   \n",
       "3  4   B    B    A    C    B    D    A    E    C    ...  0.668980  0.239061   \n",
       "4  6   A    A    A    C    B    D    A    E    A    ...  0.686964  0.420667   \n",
       "\n",
       "   cont7     cont8     cont9     cont10    cont11    cont12    cont13    \\\n",
       "0  0.310921  0.389470  0.267559  0.237281  0.377873  0.322401  0.869850   \n",
       "1  0.516294  0.594928  0.341439  0.906013  0.921701  0.261975  0.465083   \n",
       "2  0.902567  0.555205  0.843531  0.748809  0.620126  0.541474  0.763846   \n",
       "3  0.732948  0.679618  0.574844  0.346010  0.714610  0.540150  0.280682   \n",
       "4  0.648182  0.684501  0.956692  1.000773  0.776742  0.625849  0.250823   \n",
       "\n",
       "   target    \n",
       "0  8.113634  \n",
       "1  8.481233  \n",
       "2  8.364351  \n",
       "3  8.049253  \n",
       "4  7.972260  \n",
       "\n",
       "[5 rows x 26 columns]"
      ]
     },
     "execution_count": 34,
     "metadata": {},
     "output_type": "execute_result"
    },
    {
     "name": "stdout",
     "output_type": "stream",
     "text": [
      "time: 1.75 s (started: 2021-08-17 15:07:27 -07:00)\n"
     ]
    }
   ],
   "source": [
    "train_data = pd.read_csv(f'{data_dir}/train.csv')\n",
    "test_data = pd.read_csv(f'{data_dir}/test.csv')\n",
    "\n",
    "train_data.head()"
   ]
  },
  {
   "cell_type": "markdown",
   "id": "162220b4-499f-419b-ba8b-ecc54b929c06",
   "metadata": {},
   "source": [
    "---\n",
    "\n",
    "## EDA"
   ]
  },
  {
   "cell_type": "markdown",
   "id": "72a72b64-0b6e-48f8-911d-8a7b0c63a598",
   "metadata": {},
   "source": [
    "---\n",
    "\n",
    "### Missing Values\n",
    "\n",
    "Since the train dataset does not have any missing value, there is not necessary for data imputation."
   ]
  },
  {
   "cell_type": "code",
   "execution_count": 3,
   "id": "f94e5165-3226-4e66-96c8-6bd4d6667163",
   "metadata": {},
   "outputs": [
    {
     "data": {
      "text/plain": [
       "id        0\n",
       "cat0      0\n",
       "cat1      0\n",
       "cat2      0\n",
       "cat3      0\n",
       "         ..\n",
       "cont10    0\n",
       "cont11    0\n",
       "cont12    0\n",
       "cont13    0\n",
       "target    0\n",
       "Length: 26, dtype: int64"
      ]
     },
     "execution_count": 3,
     "metadata": {},
     "output_type": "execute_result"
    },
    {
     "name": "stdout",
     "output_type": "stream",
     "text": [
      "time: 127 ms (started: 2021-08-17 14:35:45 -07:00)\n"
     ]
    }
   ],
   "source": [
    "# Number of missing values per column\n",
    "train_data.isna().sum()"
   ]
  },
  {
   "cell_type": "code",
   "execution_count": 4,
   "id": "d076979a-cfdb-4bdc-bf7c-01bec5bc929f",
   "metadata": {},
   "outputs": [
    {
     "data": {
      "text/plain": [
       "id        0.0\n",
       "cat0      0.0\n",
       "cat1      0.0\n",
       "cat2      0.0\n",
       "cat3      0.0\n",
       "         ... \n",
       "cont10    0.0\n",
       "cont11    0.0\n",
       "cont12    0.0\n",
       "cont13    0.0\n",
       "target    0.0\n",
       "Length: 26, dtype: float64"
      ]
     },
     "execution_count": 4,
     "metadata": {},
     "output_type": "execute_result"
    },
    {
     "name": "stdout",
     "output_type": "stream",
     "text": [
      "time: 130 ms (started: 2021-08-17 14:35:45 -07:00)\n"
     ]
    }
   ],
   "source": [
    "# Proportion of missing values per column\n",
    "train_data.isna().mean()"
   ]
  },
  {
   "cell_type": "code",
   "execution_count": 5,
   "id": "439cc0c0-1d59-45be-8b4e-76c80b282028",
   "metadata": {},
   "outputs": [
    {
     "data": {
      "text/plain": [
       "0"
      ]
     },
     "execution_count": 5,
     "metadata": {},
     "output_type": "execute_result"
    },
    {
     "name": "stdout",
     "output_type": "stream",
     "text": [
      "time: 127 ms (started: 2021-08-17 14:35:46 -07:00)\n"
     ]
    }
   ],
   "source": [
    "# Overall missing values\n",
    "train_data.isna().sum().sum()"
   ]
  },
  {
   "cell_type": "markdown",
   "id": "3c232417-b529-4f2c-b6d0-9d6d99c7bad3",
   "metadata": {},
   "source": [
    "---\n",
    "\n",
    "### Define X, y"
   ]
  },
  {
   "cell_type": "code",
   "execution_count": 6,
   "id": "58cd4e82-d73b-4b0b-99f6-591a44596a22",
   "metadata": {},
   "outputs": [
    {
     "name": "stdout",
     "output_type": "stream",
     "text": [
      "time: 59.5 ms (started: 2021-08-17 14:35:48 -07:00)\n"
     ]
    }
   ],
   "source": [
    "# Define target column\n",
    "target_col = 'target'\n",
    "\n",
    "# Define X, y\n",
    "X = train_data.copy()\n",
    "y = X.pop(target_col)"
   ]
  },
  {
   "cell_type": "markdown",
   "id": "a6479ce1-8636-4ce0-9c2e-c81359cdef92",
   "metadata": {},
   "source": [
    "---\n",
    "\n",
    "### Numerical Data\n",
    "\n",
    "Since all of the numerical data are in the same scale, there is no need for scaling."
   ]
  },
  {
   "cell_type": "code",
   "execution_count": 7,
   "id": "abf3b70c-b72c-4d5b-8dc2-01b52fcc5dd2",
   "metadata": {},
   "outputs": [
    {
     "data": {
      "text/html": [
       "<div>\n",
       "<style scoped>\n",
       "    .dataframe tbody tr th:only-of-type {\n",
       "        vertical-align: middle;\n",
       "    }\n",
       "\n",
       "    .dataframe tbody tr th {\n",
       "        vertical-align: top;\n",
       "    }\n",
       "\n",
       "    .dataframe thead th {\n",
       "        text-align: right;\n",
       "    }\n",
       "</style>\n",
       "<table border=\"1\" class=\"dataframe\">\n",
       "  <thead>\n",
       "    <tr style=\"text-align: left;\">\n",
       "      <th></th>\n",
       "      <th>id</th>\n",
       "      <th>cont0</th>\n",
       "      <th>cont1</th>\n",
       "      <th>cont2</th>\n",
       "      <th>cont3</th>\n",
       "      <th>cont4</th>\n",
       "      <th>cont5</th>\n",
       "      <th>cont6</th>\n",
       "      <th>cont7</th>\n",
       "      <th>cont8</th>\n",
       "      <th>cont9</th>\n",
       "      <th>cont10</th>\n",
       "      <th>cont11</th>\n",
       "      <th>cont12</th>\n",
       "      <th>cont13</th>\n",
       "      <th>target</th>\n",
       "    </tr>\n",
       "  </thead>\n",
       "  <tbody>\n",
       "    <tr>\n",
       "      <th>count</th>\n",
       "      <td>300000.000000</td>\n",
       "      <td>300000.000000</td>\n",
       "      <td>300000.000000</td>\n",
       "      <td>300000.000000</td>\n",
       "      <td>300000.000000</td>\n",
       "      <td>300000.000000</td>\n",
       "      <td>300000.000000</td>\n",
       "      <td>300000.000000</td>\n",
       "      <td>300000.000000</td>\n",
       "      <td>300000.000000</td>\n",
       "      <td>300000.000000</td>\n",
       "      <td>300000.000000</td>\n",
       "      <td>300000.000000</td>\n",
       "      <td>300000.000000</td>\n",
       "      <td>300000.000000</td>\n",
       "      <td>300000.000000</td>\n",
       "    </tr>\n",
       "    <tr>\n",
       "      <th>mean</th>\n",
       "      <td>250018.576947</td>\n",
       "      <td>0.527335</td>\n",
       "      <td>0.460926</td>\n",
       "      <td>0.490498</td>\n",
       "      <td>0.496689</td>\n",
       "      <td>0.491654</td>\n",
       "      <td>0.510526</td>\n",
       "      <td>0.467476</td>\n",
       "      <td>0.537119</td>\n",
       "      <td>0.498456</td>\n",
       "      <td>0.474872</td>\n",
       "      <td>0.474492</td>\n",
       "      <td>0.473216</td>\n",
       "      <td>0.494561</td>\n",
       "      <td>0.508273</td>\n",
       "      <td>8.241979</td>\n",
       "    </tr>\n",
       "    <tr>\n",
       "      <th>std</th>\n",
       "      <td>144450.150010</td>\n",
       "      <td>0.230599</td>\n",
       "      <td>0.214003</td>\n",
       "      <td>0.253346</td>\n",
       "      <td>0.219199</td>\n",
       "      <td>0.240074</td>\n",
       "      <td>0.228232</td>\n",
       "      <td>0.210331</td>\n",
       "      <td>0.218140</td>\n",
       "      <td>0.239920</td>\n",
       "      <td>0.218007</td>\n",
       "      <td>0.255949</td>\n",
       "      <td>0.222022</td>\n",
       "      <td>0.247292</td>\n",
       "      <td>0.222950</td>\n",
       "      <td>0.746555</td>\n",
       "    </tr>\n",
       "    <tr>\n",
       "      <th>min</th>\n",
       "      <td>1.000000</td>\n",
       "      <td>-0.118039</td>\n",
       "      <td>-0.069309</td>\n",
       "      <td>-0.056104</td>\n",
       "      <td>0.130676</td>\n",
       "      <td>0.255908</td>\n",
       "      <td>0.045915</td>\n",
       "      <td>-0.224689</td>\n",
       "      <td>0.203763</td>\n",
       "      <td>-0.260275</td>\n",
       "      <td>0.117896</td>\n",
       "      <td>0.048732</td>\n",
       "      <td>0.052608</td>\n",
       "      <td>-0.074208</td>\n",
       "      <td>0.151050</td>\n",
       "      <td>0.140329</td>\n",
       "    </tr>\n",
       "    <tr>\n",
       "      <th>25%</th>\n",
       "      <td>124772.500000</td>\n",
       "      <td>0.405965</td>\n",
       "      <td>0.310494</td>\n",
       "      <td>0.300604</td>\n",
       "      <td>0.329783</td>\n",
       "      <td>0.284188</td>\n",
       "      <td>0.354141</td>\n",
       "      <td>0.342873</td>\n",
       "      <td>0.355825</td>\n",
       "      <td>0.332486</td>\n",
       "      <td>0.306874</td>\n",
       "      <td>0.276017</td>\n",
       "      <td>0.308151</td>\n",
       "      <td>0.289074</td>\n",
       "      <td>0.300669</td>\n",
       "      <td>7.742071</td>\n",
       "    </tr>\n",
       "    <tr>\n",
       "      <th>50%</th>\n",
       "      <td>250002.500000</td>\n",
       "      <td>0.497053</td>\n",
       "      <td>0.427903</td>\n",
       "      <td>0.502462</td>\n",
       "      <td>0.465026</td>\n",
       "      <td>0.390470</td>\n",
       "      <td>0.488865</td>\n",
       "      <td>0.429383</td>\n",
       "      <td>0.504661</td>\n",
       "      <td>0.439151</td>\n",
       "      <td>0.434620</td>\n",
       "      <td>0.459975</td>\n",
       "      <td>0.433812</td>\n",
       "      <td>0.422887</td>\n",
       "      <td>0.472400</td>\n",
       "      <td>8.191373</td>\n",
       "    </tr>\n",
       "    <tr>\n",
       "      <th>75%</th>\n",
       "      <td>375226.500000</td>\n",
       "      <td>0.668060</td>\n",
       "      <td>0.615113</td>\n",
       "      <td>0.647512</td>\n",
       "      <td>0.664451</td>\n",
       "      <td>0.696599</td>\n",
       "      <td>0.669625</td>\n",
       "      <td>0.573383</td>\n",
       "      <td>0.703441</td>\n",
       "      <td>0.606056</td>\n",
       "      <td>0.614333</td>\n",
       "      <td>0.691579</td>\n",
       "      <td>0.642057</td>\n",
       "      <td>0.714502</td>\n",
       "      <td>0.758447</td>\n",
       "      <td>8.728634</td>\n",
       "    </tr>\n",
       "    <tr>\n",
       "      <th>max</th>\n",
       "      <td>499999.000000</td>\n",
       "      <td>1.058443</td>\n",
       "      <td>0.887253</td>\n",
       "      <td>1.034704</td>\n",
       "      <td>1.039560</td>\n",
       "      <td>1.055424</td>\n",
       "      <td>1.067649</td>\n",
       "      <td>1.111552</td>\n",
       "      <td>1.032837</td>\n",
       "      <td>1.040229</td>\n",
       "      <td>0.982922</td>\n",
       "      <td>1.055960</td>\n",
       "      <td>1.071444</td>\n",
       "      <td>0.975035</td>\n",
       "      <td>0.905992</td>\n",
       "      <td>10.411992</td>\n",
       "    </tr>\n",
       "  </tbody>\n",
       "</table>\n",
       "</div>"
      ],
      "text/plain": [
       "       id             cont0          cont1          cont2          \\\n",
       "count  300000.000000  300000.000000  300000.000000  300000.000000   \n",
       "mean   250018.576947       0.527335       0.460926       0.490498   \n",
       "std    144450.150010       0.230599       0.214003       0.253346   \n",
       "min         1.000000      -0.118039      -0.069309      -0.056104   \n",
       "25%    124772.500000       0.405965       0.310494       0.300604   \n",
       "50%    250002.500000       0.497053       0.427903       0.502462   \n",
       "75%    375226.500000       0.668060       0.615113       0.647512   \n",
       "max    499999.000000       1.058443       0.887253       1.034704   \n",
       "\n",
       "       cont3          cont4          cont5          cont6          \\\n",
       "count  300000.000000  300000.000000  300000.000000  300000.000000   \n",
       "mean        0.496689       0.491654       0.510526       0.467476   \n",
       "std         0.219199       0.240074       0.228232       0.210331   \n",
       "min         0.130676       0.255908       0.045915      -0.224689   \n",
       "25%         0.329783       0.284188       0.354141       0.342873   \n",
       "50%         0.465026       0.390470       0.488865       0.429383   \n",
       "75%         0.664451       0.696599       0.669625       0.573383   \n",
       "max         1.039560       1.055424       1.067649       1.111552   \n",
       "\n",
       "       cont7          cont8          cont9          cont10         \\\n",
       "count  300000.000000  300000.000000  300000.000000  300000.000000   \n",
       "mean        0.537119       0.498456       0.474872       0.474492   \n",
       "std         0.218140       0.239920       0.218007       0.255949   \n",
       "min         0.203763      -0.260275       0.117896       0.048732   \n",
       "25%         0.355825       0.332486       0.306874       0.276017   \n",
       "50%         0.504661       0.439151       0.434620       0.459975   \n",
       "75%         0.703441       0.606056       0.614333       0.691579   \n",
       "max         1.032837       1.040229       0.982922       1.055960   \n",
       "\n",
       "       cont11         cont12         cont13         target         \n",
       "count  300000.000000  300000.000000  300000.000000  300000.000000  \n",
       "mean        0.473216       0.494561       0.508273       8.241979  \n",
       "std         0.222022       0.247292       0.222950       0.746555  \n",
       "min         0.052608      -0.074208       0.151050       0.140329  \n",
       "25%         0.308151       0.289074       0.300669       7.742071  \n",
       "50%         0.433812       0.422887       0.472400       8.191373  \n",
       "75%         0.642057       0.714502       0.758447       8.728634  \n",
       "max         1.071444       0.975035       0.905992      10.411992  "
      ]
     },
     "execution_count": 7,
     "metadata": {},
     "output_type": "execute_result"
    },
    {
     "name": "stdout",
     "output_type": "stream",
     "text": [
      "time: 269 ms (started: 2021-08-17 14:36:03 -07:00)\n"
     ]
    }
   ],
   "source": [
    "train_data.describe()"
   ]
  },
  {
   "cell_type": "code",
   "execution_count": 10,
   "id": "8f531af8-9886-4426-9de3-bead4f9f0607",
   "metadata": {},
   "outputs": [
    {
     "data": {
      "text/plain": [
       "array([dtype('int64'), dtype('O'), dtype('float64')], dtype=object)"
      ]
     },
     "execution_count": 10,
     "metadata": {},
     "output_type": "execute_result"
    },
    {
     "name": "stdout",
     "output_type": "stream",
     "text": [
      "time: 2.29 ms (started: 2021-08-17 14:36:14 -07:00)\n"
     ]
    }
   ],
   "source": [
    "# Unique data types of X\n",
    "X.dtypes.unique()"
   ]
  },
  {
   "cell_type": "code",
   "execution_count": 11,
   "id": "0c2a04a3-76e2-4fd7-ba7b-1bc4495eea03",
   "metadata": {},
   "outputs": [
    {
     "data": {
      "text/plain": [
       "Index(['id', 'cont0', 'cont1', 'cont2', 'cont3', 'cont4', 'cont5', 'cont6',\n",
       "       'cont7', 'cont8', 'cont9', 'cont10', 'cont11', 'cont12', 'cont13'],\n",
       "      dtype='object')"
      ]
     },
     "execution_count": 11,
     "metadata": {},
     "output_type": "execute_result"
    },
    {
     "name": "stdout",
     "output_type": "stream",
     "text": [
      "time: 9.75 ms (started: 2021-08-17 14:36:35 -07:00)\n"
     ]
    }
   ],
   "source": [
    "# Define Numercial Columns\n",
    "num_cols = X.select_dtypes(include=['int', 'float']).columns\n",
    "num_cols"
   ]
  },
  {
   "cell_type": "code",
   "execution_count": 12,
   "id": "29881869-d8df-4c2f-a364-7149b90cae59",
   "metadata": {},
   "outputs": [
    {
     "data": {
      "application/vnd.plotly.v1+json": {
       "config": {
        "plotlyServerURL": "https://plot.ly"
       },
       "data": [
        {
         "coloraxis": "coloraxis",
         "hovertemplate": "x: %{x}<br>y: %{y}<br>color: %{z}<extra></extra>",
         "name": "0",
         "type": "heatmap",
         "x": [
          "id",
          "cont0",
          "cont1",
          "cont2",
          "cont3",
          "cont4",
          "cont5",
          "cont6",
          "cont7",
          "cont8",
          "cont9",
          "cont10",
          "cont11",
          "cont12",
          "cont13",
          "target"
         ],
         "xaxis": "x",
         "y": [
          "id",
          "cont0",
          "cont1",
          "cont2",
          "cont3",
          "cont4",
          "cont5",
          "cont6",
          "cont7",
          "cont8",
          "cont9",
          "cont10",
          "cont11",
          "cont12",
          "cont13",
          "target"
         ],
         "yaxis": "y",
         "z": [
          [
           1,
           0.0024452912731701974,
           0.001969827960276525,
           0.001551700602971171,
           0.0005953969587404225,
           -0.002411214349636943,
           -0.0018642137846414334,
           0.002295316117924099,
           -0.0012455434389636298,
           -0.004348805603453616,
           -0.0003278511195129037,
           0.0008322003498014283,
           0.002284022907571411,
           -0.0004797800894233098,
           -0.001694261670587198,
           0.0004797052292103645
          ],
          [
           0.0024452912731701974,
           1,
           -0.00942227568053684,
           -0.2969887750362442,
           0.2113331363949462,
           -0.10977587982852513,
           0.39245561317656547,
           0.13399454977220576,
           0.2946866673868703,
           0.38851023891857084,
           0.39496930813409387,
           0.36341252925011036,
           0.2559406175656331,
           0.41787195575041897,
           0.02323425964813106,
           0.02881946630206756
          ],
          [
           0.001969827960276525,
           -0.00942227568053684,
           1,
           -0.0006273482039296304,
           -0.0022325874147161684,
           -0.0002845945654273701,
           0.0038121476737317294,
           0.0013206949412641017,
           0.013474691868646995,
           -0.021540614213331435,
           -0.002726736416304967,
           -0.0016478630687332386,
           -0.017220665266006758,
           -0.006862015058822974,
           -0.010097280308287737,
           -0.002096279823370726
          ],
          [
           0.001551700602971171,
           -0.2969887750362442,
           -0.0006273482039296304,
           1,
           -0.18085647738466634,
           0.09277992865759037,
           -0.30013979549281267,
           -0.14172417943343285,
           -0.28398853010493075,
           -0.326455669585942,
           -0.3091181074007543,
           -0.30027275167545936,
           -0.32502259913366266,
           -0.3520085261563209,
           -0.03981467618972607,
           0.03427984581312759
          ],
          [
           0.0005953969587404225,
           0.2113331363949462,
           -0.0022325874147161684,
           -0.18085647738466634,
           1,
           -0.0699338106349254,
           0.20144139658057852,
           0.04013287613636951,
           0.17258622024832798,
           0.18522064005916597,
           0.19480653964759762,
           0.19952508789372903,
           0.14093373500481948,
           0.25511690972166867,
           0.037920448740841425,
           -0.022758939920403422
          ],
          [
           -0.002411214349636943,
           -0.10977587982852513,
           -0.0002845945654273701,
           0.09277992865759037,
           -0.0699338106349254,
           1,
           -0.14880670648442665,
           -0.04441687559508324,
           -0.09565288887329121,
           -0.12259400352936924,
           -0.1234684463860208,
           -0.1322112719789454,
           -0.11517343069696521,
           -0.15107986866495657,
           -0.012798025208625701,
           -0.02313162183136009
          ],
          [
           -0.0018642137846414334,
           0.39245561317656547,
           0.0038121476737317294,
           -0.30013979549281267,
           0.20144139658057852,
           -0.14880670648442665,
           1,
           0.21180045055546728,
           0.3293568849377037,
           0.3920570474633343,
           0.4113663486725864,
           0.4020532014357006,
           0.3082489645751649,
           0.4739643930014617,
           0.05377946481184043,
           -0.015058102997239347
          ],
          [
           0.002295316117924099,
           0.13399454977220576,
           0.0013206949412641017,
           -0.14172417943343285,
           0.04013287613636951,
           -0.04441687559508324,
           0.21180045055546728,
           1,
           0.135333304049191,
           0.11783342109630039,
           0.18730266295726378,
           0.17816848343758096,
           0.16873057422250778,
           0.17100987540672924,
           0.03118304344184954,
           -0.013806914159282173
          ],
          [
           -0.0012455434389636298,
           0.2946866673868703,
           0.013474691868646995,
           -0.28398853010493075,
           0.17258622024832798,
           -0.09565288887329121,
           0.3293568849377037,
           0.135333304049191,
           1,
           0.332639207114935,
           0.3202393384719648,
           0.2834142304016182,
           0.2794047438474256,
           0.36309128422775705,
           0.05695759109023214,
           0.035143324565832405
          ],
          [
           -0.004348805603453616,
           0.38851023891857084,
           -0.021540614213331435,
           -0.326455669585942,
           0.18522064005916597,
           -0.12259400352936924,
           0.3920570474633343,
           0.11783342109630039,
           0.332639207114935,
           1,
           0.4065166454665623,
           0.3414304408680543,
           0.29712090563931554,
           0.4341961674901596,
           0.050163347752551844,
           0.017739982391344892
          ],
          [
           -0.0003278511195129037,
           0.39496930813409387,
           -0.002726736416304967,
           -0.3091181074007543,
           0.19480653964759762,
           -0.1234684463860208,
           0.4113663486725864,
           0.18730266295726378,
           0.3202393384719648,
           0.4065166454665623,
           1,
           0.3619407494432173,
           0.32786638764712195,
           0.4377756691368704,
           0.044631367637269756,
           -0.015726037763723118
          ],
          [
           0.0008322003498014283,
           0.36341252925011036,
           -0.0016478630687332386,
           -0.30027275167545936,
           0.19952508789372903,
           -0.1322112719789454,
           0.4020532014357006,
           0.17816848343758096,
           0.2834142304016182,
           0.3414304408680543,
           0.3619407494432173,
           1,
           0.29386047032485807,
           0.40760853280390347,
           0.04135285428651739,
           0.052467543524172135
          ],
          [
           0.002284022907571411,
           0.2559406175656331,
           -0.017220665266006758,
           -0.32502259913366266,
           0.14093373500481948,
           -0.11517343069696521,
           0.3082489645751649,
           0.16873057422250778,
           0.2794047438474256,
           0.29712090563931554,
           0.32786638764712195,
           0.29386047032485807,
           1,
           0.36357939700795816,
           0.031141025737515322,
           0.033378432114142216
          ],
          [
           -0.0004797800894233098,
           0.41787195575041897,
           -0.006862015058822974,
           -0.3520085261563209,
           0.25511690972166867,
           -0.15107986866495657,
           0.4739643930014617,
           0.17100987540672924,
           0.36309128422775705,
           0.4341961674901596,
           0.4377756691368704,
           0.40760853280390347,
           0.36357939700795816,
           1,
           0.05991872043299495,
           0.055828978203137404
          ],
          [
           -0.001694261670587198,
           0.02323425964813106,
           -0.010097280308287737,
           -0.03981467618972607,
           0.037920448740841425,
           -0.012798025208625701,
           0.05377946481184043,
           0.03118304344184954,
           0.05695759109023214,
           0.050163347752551844,
           0.044631367637269756,
           0.04135285428651739,
           0.031141025737515322,
           0.05991872043299495,
           1,
           -0.02818947831265933
          ],
          [
           0.0004797052292103645,
           0.02881946630206756,
           -0.002096279823370726,
           0.03427984581312759,
           -0.022758939920403422,
           -0.02313162183136009,
           -0.015058102997239347,
           -0.013806914159282173,
           0.035143324565832405,
           0.017739982391344892,
           -0.015726037763723118,
           0.052467543524172135,
           0.033378432114142216,
           0.055828978203137404,
           -0.02818947831265933,
           1
          ]
         ]
        }
       ],
       "layout": {
        "coloraxis": {
         "colorscale": [
          [
           0,
           "#0d0887"
          ],
          [
           0.1111111111111111,
           "#46039f"
          ],
          [
           0.2222222222222222,
           "#7201a8"
          ],
          [
           0.3333333333333333,
           "#9c179e"
          ],
          [
           0.4444444444444444,
           "#bd3786"
          ],
          [
           0.5555555555555556,
           "#d8576b"
          ],
          [
           0.6666666666666666,
           "#ed7953"
          ],
          [
           0.7777777777777778,
           "#fb9f3a"
          ],
          [
           0.8888888888888888,
           "#fdca26"
          ],
          [
           1,
           "#f0f921"
          ]
         ]
        },
        "height": 800,
        "margin": {
         "t": 60
        },
        "template": {
         "data": {
          "bar": [
           {
            "error_x": {
             "color": "#2a3f5f"
            },
            "error_y": {
             "color": "#2a3f5f"
            },
            "marker": {
             "line": {
              "color": "white",
              "width": 0.5
             }
            },
            "type": "bar"
           }
          ],
          "barpolar": [
           {
            "marker": {
             "line": {
              "color": "white",
              "width": 0.5
             }
            },
            "type": "barpolar"
           }
          ],
          "carpet": [
           {
            "aaxis": {
             "endlinecolor": "#2a3f5f",
             "gridcolor": "#C8D4E3",
             "linecolor": "#C8D4E3",
             "minorgridcolor": "#C8D4E3",
             "startlinecolor": "#2a3f5f"
            },
            "baxis": {
             "endlinecolor": "#2a3f5f",
             "gridcolor": "#C8D4E3",
             "linecolor": "#C8D4E3",
             "minorgridcolor": "#C8D4E3",
             "startlinecolor": "#2a3f5f"
            },
            "type": "carpet"
           }
          ],
          "choropleth": [
           {
            "colorbar": {
             "outlinewidth": 0,
             "ticks": ""
            },
            "type": "choropleth"
           }
          ],
          "contour": [
           {
            "colorbar": {
             "outlinewidth": 0,
             "ticks": ""
            },
            "colorscale": [
             [
              0,
              "#0d0887"
             ],
             [
              0.1111111111111111,
              "#46039f"
             ],
             [
              0.2222222222222222,
              "#7201a8"
             ],
             [
              0.3333333333333333,
              "#9c179e"
             ],
             [
              0.4444444444444444,
              "#bd3786"
             ],
             [
              0.5555555555555556,
              "#d8576b"
             ],
             [
              0.6666666666666666,
              "#ed7953"
             ],
             [
              0.7777777777777778,
              "#fb9f3a"
             ],
             [
              0.8888888888888888,
              "#fdca26"
             ],
             [
              1,
              "#f0f921"
             ]
            ],
            "type": "contour"
           }
          ],
          "contourcarpet": [
           {
            "colorbar": {
             "outlinewidth": 0,
             "ticks": ""
            },
            "type": "contourcarpet"
           }
          ],
          "heatmap": [
           {
            "colorbar": {
             "outlinewidth": 0,
             "ticks": ""
            },
            "colorscale": [
             [
              0,
              "#0d0887"
             ],
             [
              0.1111111111111111,
              "#46039f"
             ],
             [
              0.2222222222222222,
              "#7201a8"
             ],
             [
              0.3333333333333333,
              "#9c179e"
             ],
             [
              0.4444444444444444,
              "#bd3786"
             ],
             [
              0.5555555555555556,
              "#d8576b"
             ],
             [
              0.6666666666666666,
              "#ed7953"
             ],
             [
              0.7777777777777778,
              "#fb9f3a"
             ],
             [
              0.8888888888888888,
              "#fdca26"
             ],
             [
              1,
              "#f0f921"
             ]
            ],
            "type": "heatmap"
           }
          ],
          "heatmapgl": [
           {
            "colorbar": {
             "outlinewidth": 0,
             "ticks": ""
            },
            "colorscale": [
             [
              0,
              "#0d0887"
             ],
             [
              0.1111111111111111,
              "#46039f"
             ],
             [
              0.2222222222222222,
              "#7201a8"
             ],
             [
              0.3333333333333333,
              "#9c179e"
             ],
             [
              0.4444444444444444,
              "#bd3786"
             ],
             [
              0.5555555555555556,
              "#d8576b"
             ],
             [
              0.6666666666666666,
              "#ed7953"
             ],
             [
              0.7777777777777778,
              "#fb9f3a"
             ],
             [
              0.8888888888888888,
              "#fdca26"
             ],
             [
              1,
              "#f0f921"
             ]
            ],
            "type": "heatmapgl"
           }
          ],
          "histogram": [
           {
            "marker": {
             "colorbar": {
              "outlinewidth": 0,
              "ticks": ""
             }
            },
            "type": "histogram"
           }
          ],
          "histogram2d": [
           {
            "colorbar": {
             "outlinewidth": 0,
             "ticks": ""
            },
            "colorscale": [
             [
              0,
              "#0d0887"
             ],
             [
              0.1111111111111111,
              "#46039f"
             ],
             [
              0.2222222222222222,
              "#7201a8"
             ],
             [
              0.3333333333333333,
              "#9c179e"
             ],
             [
              0.4444444444444444,
              "#bd3786"
             ],
             [
              0.5555555555555556,
              "#d8576b"
             ],
             [
              0.6666666666666666,
              "#ed7953"
             ],
             [
              0.7777777777777778,
              "#fb9f3a"
             ],
             [
              0.8888888888888888,
              "#fdca26"
             ],
             [
              1,
              "#f0f921"
             ]
            ],
            "type": "histogram2d"
           }
          ],
          "histogram2dcontour": [
           {
            "colorbar": {
             "outlinewidth": 0,
             "ticks": ""
            },
            "colorscale": [
             [
              0,
              "#0d0887"
             ],
             [
              0.1111111111111111,
              "#46039f"
             ],
             [
              0.2222222222222222,
              "#7201a8"
             ],
             [
              0.3333333333333333,
              "#9c179e"
             ],
             [
              0.4444444444444444,
              "#bd3786"
             ],
             [
              0.5555555555555556,
              "#d8576b"
             ],
             [
              0.6666666666666666,
              "#ed7953"
             ],
             [
              0.7777777777777778,
              "#fb9f3a"
             ],
             [
              0.8888888888888888,
              "#fdca26"
             ],
             [
              1,
              "#f0f921"
             ]
            ],
            "type": "histogram2dcontour"
           }
          ],
          "mesh3d": [
           {
            "colorbar": {
             "outlinewidth": 0,
             "ticks": ""
            },
            "type": "mesh3d"
           }
          ],
          "parcoords": [
           {
            "line": {
             "colorbar": {
              "outlinewidth": 0,
              "ticks": ""
             }
            },
            "type": "parcoords"
           }
          ],
          "pie": [
           {
            "automargin": true,
            "type": "pie"
           }
          ],
          "scatter": [
           {
            "marker": {
             "colorbar": {
              "outlinewidth": 0,
              "ticks": ""
             }
            },
            "type": "scatter"
           }
          ],
          "scatter3d": [
           {
            "line": {
             "colorbar": {
              "outlinewidth": 0,
              "ticks": ""
             }
            },
            "marker": {
             "colorbar": {
              "outlinewidth": 0,
              "ticks": ""
             }
            },
            "type": "scatter3d"
           }
          ],
          "scattercarpet": [
           {
            "marker": {
             "colorbar": {
              "outlinewidth": 0,
              "ticks": ""
             }
            },
            "type": "scattercarpet"
           }
          ],
          "scattergeo": [
           {
            "marker": {
             "colorbar": {
              "outlinewidth": 0,
              "ticks": ""
             }
            },
            "type": "scattergeo"
           }
          ],
          "scattergl": [
           {
            "marker": {
             "colorbar": {
              "outlinewidth": 0,
              "ticks": ""
             }
            },
            "type": "scattergl"
           }
          ],
          "scattermapbox": [
           {
            "marker": {
             "colorbar": {
              "outlinewidth": 0,
              "ticks": ""
             }
            },
            "type": "scattermapbox"
           }
          ],
          "scatterpolar": [
           {
            "marker": {
             "colorbar": {
              "outlinewidth": 0,
              "ticks": ""
             }
            },
            "type": "scatterpolar"
           }
          ],
          "scatterpolargl": [
           {
            "marker": {
             "colorbar": {
              "outlinewidth": 0,
              "ticks": ""
             }
            },
            "type": "scatterpolargl"
           }
          ],
          "scatterternary": [
           {
            "marker": {
             "colorbar": {
              "outlinewidth": 0,
              "ticks": ""
             }
            },
            "type": "scatterternary"
           }
          ],
          "surface": [
           {
            "colorbar": {
             "outlinewidth": 0,
             "ticks": ""
            },
            "colorscale": [
             [
              0,
              "#0d0887"
             ],
             [
              0.1111111111111111,
              "#46039f"
             ],
             [
              0.2222222222222222,
              "#7201a8"
             ],
             [
              0.3333333333333333,
              "#9c179e"
             ],
             [
              0.4444444444444444,
              "#bd3786"
             ],
             [
              0.5555555555555556,
              "#d8576b"
             ],
             [
              0.6666666666666666,
              "#ed7953"
             ],
             [
              0.7777777777777778,
              "#fb9f3a"
             ],
             [
              0.8888888888888888,
              "#fdca26"
             ],
             [
              1,
              "#f0f921"
             ]
            ],
            "type": "surface"
           }
          ],
          "table": [
           {
            "cells": {
             "fill": {
              "color": "#EBF0F8"
             },
             "line": {
              "color": "white"
             }
            },
            "header": {
             "fill": {
              "color": "#C8D4E3"
             },
             "line": {
              "color": "white"
             }
            },
            "type": "table"
           }
          ]
         },
         "layout": {
          "annotationdefaults": {
           "arrowcolor": "#2a3f5f",
           "arrowhead": 0,
           "arrowwidth": 1
          },
          "autotypenumbers": "strict",
          "coloraxis": {
           "colorbar": {
            "outlinewidth": 0,
            "ticks": ""
           }
          },
          "colorscale": {
           "diverging": [
            [
             0,
             "#8e0152"
            ],
            [
             0.1,
             "#c51b7d"
            ],
            [
             0.2,
             "#de77ae"
            ],
            [
             0.3,
             "#f1b6da"
            ],
            [
             0.4,
             "#fde0ef"
            ],
            [
             0.5,
             "#f7f7f7"
            ],
            [
             0.6,
             "#e6f5d0"
            ],
            [
             0.7,
             "#b8e186"
            ],
            [
             0.8,
             "#7fbc41"
            ],
            [
             0.9,
             "#4d9221"
            ],
            [
             1,
             "#276419"
            ]
           ],
           "sequential": [
            [
             0,
             "#0d0887"
            ],
            [
             0.1111111111111111,
             "#46039f"
            ],
            [
             0.2222222222222222,
             "#7201a8"
            ],
            [
             0.3333333333333333,
             "#9c179e"
            ],
            [
             0.4444444444444444,
             "#bd3786"
            ],
            [
             0.5555555555555556,
             "#d8576b"
            ],
            [
             0.6666666666666666,
             "#ed7953"
            ],
            [
             0.7777777777777778,
             "#fb9f3a"
            ],
            [
             0.8888888888888888,
             "#fdca26"
            ],
            [
             1,
             "#f0f921"
            ]
           ],
           "sequentialminus": [
            [
             0,
             "#0d0887"
            ],
            [
             0.1111111111111111,
             "#46039f"
            ],
            [
             0.2222222222222222,
             "#7201a8"
            ],
            [
             0.3333333333333333,
             "#9c179e"
            ],
            [
             0.4444444444444444,
             "#bd3786"
            ],
            [
             0.5555555555555556,
             "#d8576b"
            ],
            [
             0.6666666666666666,
             "#ed7953"
            ],
            [
             0.7777777777777778,
             "#fb9f3a"
            ],
            [
             0.8888888888888888,
             "#fdca26"
            ],
            [
             1,
             "#f0f921"
            ]
           ]
          },
          "colorway": [
           "#636efa",
           "#EF553B",
           "#00cc96",
           "#ab63fa",
           "#FFA15A",
           "#19d3f3",
           "#FF6692",
           "#B6E880",
           "#FF97FF",
           "#FECB52"
          ],
          "font": {
           "color": "#2a3f5f"
          },
          "geo": {
           "bgcolor": "white",
           "lakecolor": "white",
           "landcolor": "white",
           "showlakes": true,
           "showland": true,
           "subunitcolor": "#C8D4E3"
          },
          "hoverlabel": {
           "align": "left"
          },
          "hovermode": "closest",
          "mapbox": {
           "style": "light"
          },
          "paper_bgcolor": "white",
          "plot_bgcolor": "white",
          "polar": {
           "angularaxis": {
            "gridcolor": "#EBF0F8",
            "linecolor": "#EBF0F8",
            "ticks": ""
           },
           "bgcolor": "white",
           "radialaxis": {
            "gridcolor": "#EBF0F8",
            "linecolor": "#EBF0F8",
            "ticks": ""
           }
          },
          "scene": {
           "xaxis": {
            "backgroundcolor": "white",
            "gridcolor": "#DFE8F3",
            "gridwidth": 2,
            "linecolor": "#EBF0F8",
            "showbackground": true,
            "ticks": "",
            "zerolinecolor": "#EBF0F8"
           },
           "yaxis": {
            "backgroundcolor": "white",
            "gridcolor": "#DFE8F3",
            "gridwidth": 2,
            "linecolor": "#EBF0F8",
            "showbackground": true,
            "ticks": "",
            "zerolinecolor": "#EBF0F8"
           },
           "zaxis": {
            "backgroundcolor": "white",
            "gridcolor": "#DFE8F3",
            "gridwidth": 2,
            "linecolor": "#EBF0F8",
            "showbackground": true,
            "ticks": "",
            "zerolinecolor": "#EBF0F8"
           }
          },
          "shapedefaults": {
           "line": {
            "color": "#2a3f5f"
           }
          },
          "ternary": {
           "aaxis": {
            "gridcolor": "#DFE8F3",
            "linecolor": "#A2B1C6",
            "ticks": ""
           },
           "baxis": {
            "gridcolor": "#DFE8F3",
            "linecolor": "#A2B1C6",
            "ticks": ""
           },
           "bgcolor": "white",
           "caxis": {
            "gridcolor": "#DFE8F3",
            "linecolor": "#A2B1C6",
            "ticks": ""
           }
          },
          "title": {
           "x": 0.05
          },
          "xaxis": {
           "automargin": true,
           "gridcolor": "#EBF0F8",
           "linecolor": "#EBF0F8",
           "ticks": "",
           "title": {
            "standoff": 15
           },
           "zerolinecolor": "#EBF0F8",
           "zerolinewidth": 2
          },
          "yaxis": {
           "automargin": true,
           "gridcolor": "#EBF0F8",
           "linecolor": "#EBF0F8",
           "ticks": "",
           "title": {
            "standoff": 15
           },
           "zerolinecolor": "#EBF0F8",
           "zerolinewidth": 2
          }
         }
        },
        "width": 1200,
        "xaxis": {
         "anchor": "y",
         "autorange": true,
         "constrain": "domain",
         "domain": [
          0.17261904761904762,
          0.8273809523809523
         ],
         "range": [
          -0.5,
          15.5
         ],
         "scaleanchor": "y",
         "type": "category"
        },
        "yaxis": {
         "anchor": "x",
         "autorange": true,
         "constrain": "domain",
         "domain": [
          0,
          1
         ],
         "range": [
          15.5,
          -0.5
         ],
         "type": "category"
        }
       }
      },
      "image/png": "[encoded data removed]",
      "text/html": [
       "<div>                            <div id=\"18c24ba3-53a5-47b1-8a96-2a206a1f79dc\" class=\"plotly-graph-div\" style=\"height:800px; width:1200px;\"></div>            <script type=\"text/javascript\">                require([\"plotly\"], function(Plotly) {                    window.PLOTLYENV=window.PLOTLYENV || {};                                    if (document.getElementById(\"18c24ba3-53a5-47b1-8a96-2a206a1f79dc\")) {                    Plotly.newPlot(                        \"18c24ba3-53a5-47b1-8a96-2a206a1f79dc\",                        [{\"coloraxis\": \"coloraxis\", \"hovertemplate\": \"x: %{x}<br>y: %{y}<br>color: %{z}<extra></extra>\", \"name\": \"0\", \"type\": \"heatmap\", \"x\": [\"id\", \"cont0\", \"cont1\", \"cont2\", \"cont3\", \"cont4\", \"cont5\", \"cont6\", \"cont7\", \"cont8\", \"cont9\", \"cont10\", \"cont11\", \"cont12\", \"cont13\", \"target\"], \"xaxis\": \"x\", \"y\": [\"id\", \"cont0\", \"cont1\", \"cont2\", \"cont3\", \"cont4\", \"cont5\", \"cont6\", \"cont7\", \"cont8\", \"cont9\", \"cont10\", \"cont11\", \"cont12\", \"cont13\", \"target\"], \"yaxis\": \"y\", \"z\": [[1.0, 0.0024452912731701974, 0.001969827960276525, 0.001551700602971171, 0.0005953969587404225, -0.002411214349636943, -0.0018642137846414334, 0.002295316117924099, -0.0012455434389636298, -0.004348805603453616, -0.0003278511195129037, 0.0008322003498014283, 0.002284022907571411, -0.0004797800894233098, -0.001694261670587198, 0.0004797052292103645], [0.0024452912731701974, 1.0, -0.00942227568053684, -0.2969887750362442, 0.2113331363949462, -0.10977587982852513, 0.39245561317656547, 0.13399454977220576, 0.2946866673868703, 0.38851023891857084, 0.39496930813409387, 0.36341252925011036, 0.2559406175656331, 0.41787195575041897, 0.02323425964813106, 0.02881946630206756], [0.001969827960276525, -0.00942227568053684, 1.0, -0.0006273482039296304, -0.0022325874147161684, -0.0002845945654273701, 0.0038121476737317294, 0.0013206949412641017, 0.013474691868646995, -0.021540614213331435, -0.002726736416304967, -0.0016478630687332386, -0.017220665266006758, -0.006862015058822974, -0.010097280308287737, -0.002096279823370726], [0.001551700602971171, -0.2969887750362442, -0.0006273482039296304, 1.0, -0.18085647738466634, 0.09277992865759037, -0.30013979549281267, -0.14172417943343285, -0.28398853010493075, -0.326455669585942, -0.3091181074007543, -0.30027275167545936, -0.32502259913366266, -0.3520085261563209, -0.03981467618972607, 0.03427984581312759], [0.0005953969587404225, 0.2113331363949462, -0.0022325874147161684, -0.18085647738466634, 1.0, -0.0699338106349254, 0.20144139658057852, 0.04013287613636951, 0.17258622024832798, 0.18522064005916597, 0.19480653964759762, 0.19952508789372903, 0.14093373500481948, 0.25511690972166867, 0.037920448740841425, -0.022758939920403422], [-0.002411214349636943, -0.10977587982852513, -0.0002845945654273701, 0.09277992865759037, -0.0699338106349254, 1.0, -0.14880670648442665, -0.04441687559508324, -0.09565288887329121, -0.12259400352936924, -0.1234684463860208, -0.1322112719789454, -0.11517343069696521, -0.15107986866495657, -0.012798025208625701, -0.02313162183136009], [-0.0018642137846414334, 0.39245561317656547, 0.0038121476737317294, -0.30013979549281267, 0.20144139658057852, -0.14880670648442665, 1.0, 0.21180045055546728, 0.3293568849377037, 0.3920570474633343, 0.4113663486725864, 0.4020532014357006, 0.3082489645751649, 0.4739643930014617, 0.05377946481184043, -0.015058102997239347], [0.002295316117924099, 0.13399454977220576, 0.0013206949412641017, -0.14172417943343285, 0.04013287613636951, -0.04441687559508324, 0.21180045055546728, 1.0, 0.135333304049191, 0.11783342109630039, 0.18730266295726378, 0.17816848343758096, 0.16873057422250778, 0.17100987540672924, 0.03118304344184954, -0.013806914159282173], [-0.0012455434389636298, 0.2946866673868703, 0.013474691868646995, -0.28398853010493075, 0.17258622024832798, -0.09565288887329121, 0.3293568849377037, 0.135333304049191, 1.0, 0.332639207114935, 0.3202393384719648, 0.2834142304016182, 0.2794047438474256, 0.36309128422775705, 0.05695759109023214, 0.035143324565832405], [-0.004348805603453616, 0.38851023891857084, -0.021540614213331435, -0.326455669585942, 0.18522064005916597, -0.12259400352936924, 0.3920570474633343, 0.11783342109630039, 0.332639207114935, 1.0, 0.4065166454665623, 0.3414304408680543, 0.29712090563931554, 0.4341961674901596, 0.050163347752551844, 0.017739982391344892], [-0.0003278511195129037, 0.39496930813409387, -0.002726736416304967, -0.3091181074007543, 0.19480653964759762, -0.1234684463860208, 0.4113663486725864, 0.18730266295726378, 0.3202393384719648, 0.4065166454665623, 1.0, 0.3619407494432173, 0.32786638764712195, 0.4377756691368704, 0.044631367637269756, -0.015726037763723118], [0.0008322003498014283, 0.36341252925011036, -0.0016478630687332386, -0.30027275167545936, 0.19952508789372903, -0.1322112719789454, 0.4020532014357006, 0.17816848343758096, 0.2834142304016182, 0.3414304408680543, 0.3619407494432173, 1.0, 0.29386047032485807, 0.40760853280390347, 0.04135285428651739, 0.052467543524172135], [0.002284022907571411, 0.2559406175656331, -0.017220665266006758, -0.32502259913366266, 0.14093373500481948, -0.11517343069696521, 0.3082489645751649, 0.16873057422250778, 0.2794047438474256, 0.29712090563931554, 0.32786638764712195, 0.29386047032485807, 1.0, 0.36357939700795816, 0.031141025737515322, 0.033378432114142216], [-0.0004797800894233098, 0.41787195575041897, -0.006862015058822974, -0.3520085261563209, 0.25511690972166867, -0.15107986866495657, 0.4739643930014617, 0.17100987540672924, 0.36309128422775705, 0.4341961674901596, 0.4377756691368704, 0.40760853280390347, 0.36357939700795816, 1.0, 0.05991872043299495, 0.055828978203137404], [-0.001694261670587198, 0.02323425964813106, -0.010097280308287737, -0.03981467618972607, 0.037920448740841425, -0.012798025208625701, 0.05377946481184043, 0.03118304344184954, 0.05695759109023214, 0.050163347752551844, 0.044631367637269756, 0.04135285428651739, 0.031141025737515322, 0.05991872043299495, 1.0, -0.02818947831265933], [0.0004797052292103645, 0.02881946630206756, -0.002096279823370726, 0.03427984581312759, -0.022758939920403422, -0.02313162183136009, -0.015058102997239347, -0.013806914159282173, 0.035143324565832405, 0.017739982391344892, -0.015726037763723118, 0.052467543524172135, 0.033378432114142216, 0.055828978203137404, -0.02818947831265933, 1.0]]}],                        {\"coloraxis\": {\"colorscale\": [[0.0, \"#0d0887\"], [0.1111111111111111, \"#46039f\"], [0.2222222222222222, \"#7201a8\"], [0.3333333333333333, \"#9c179e\"], [0.4444444444444444, \"#bd3786\"], [0.5555555555555556, \"#d8576b\"], [0.6666666666666666, \"#ed7953\"], [0.7777777777777778, \"#fb9f3a\"], [0.8888888888888888, \"#fdca26\"], [1.0, \"#f0f921\"]]}, \"height\": 800, \"margin\": {\"t\": 60}, \"template\": {\"data\": {\"bar\": [{\"error_x\": {\"color\": \"#2a3f5f\"}, \"error_y\": {\"color\": \"#2a3f5f\"}, \"marker\": {\"line\": {\"color\": \"white\", \"width\": 0.5}}, \"type\": \"bar\"}], \"barpolar\": [{\"marker\": {\"line\": {\"color\": \"white\", \"width\": 0.5}}, \"type\": \"barpolar\"}], \"carpet\": [{\"aaxis\": {\"endlinecolor\": \"#2a3f5f\", \"gridcolor\": \"#C8D4E3\", \"linecolor\": \"#C8D4E3\", \"minorgridcolor\": \"#C8D4E3\", \"startlinecolor\": \"#2a3f5f\"}, \"baxis\": {\"endlinecolor\": \"#2a3f5f\", \"gridcolor\": \"#C8D4E3\", \"linecolor\": \"#C8D4E3\", \"minorgridcolor\": \"#C8D4E3\", \"startlinecolor\": \"#2a3f5f\"}, \"type\": \"carpet\"}], \"choropleth\": [{\"colorbar\": {\"outlinewidth\": 0, \"ticks\": \"\"}, \"type\": \"choropleth\"}], \"contour\": [{\"colorbar\": {\"outlinewidth\": 0, \"ticks\": \"\"}, \"colorscale\": [[0.0, \"#0d0887\"], [0.1111111111111111, \"#46039f\"], [0.2222222222222222, \"#7201a8\"], [0.3333333333333333, \"#9c179e\"], [0.4444444444444444, \"#bd3786\"], [0.5555555555555556, \"#d8576b\"], [0.6666666666666666, \"#ed7953\"], [0.7777777777777778, \"#fb9f3a\"], [0.8888888888888888, \"#fdca26\"], [1.0, \"#f0f921\"]], \"type\": \"contour\"}], \"contourcarpet\": [{\"colorbar\": {\"outlinewidth\": 0, \"ticks\": \"\"}, \"type\": \"contourcarpet\"}], \"heatmap\": [{\"colorbar\": {\"outlinewidth\": 0, \"ticks\": \"\"}, \"colorscale\": [[0.0, \"#0d0887\"], [0.1111111111111111, \"#46039f\"], [0.2222222222222222, \"#7201a8\"], [0.3333333333333333, \"#9c179e\"], [0.4444444444444444, \"#bd3786\"], [0.5555555555555556, \"#d8576b\"], [0.6666666666666666, \"#ed7953\"], [0.7777777777777778, \"#fb9f3a\"], [0.8888888888888888, \"#fdca26\"], [1.0, \"#f0f921\"]], \"type\": \"heatmap\"}], \"heatmapgl\": [{\"colorbar\": {\"outlinewidth\": 0, \"ticks\": \"\"}, \"colorscale\": [[0.0, \"#0d0887\"], [0.1111111111111111, \"#46039f\"], [0.2222222222222222, \"#7201a8\"], [0.3333333333333333, \"#9c179e\"], [0.4444444444444444, \"#bd3786\"], [0.5555555555555556, \"#d8576b\"], [0.6666666666666666, \"#ed7953\"], [0.7777777777777778, \"#fb9f3a\"], [0.8888888888888888, \"#fdca26\"], [1.0, \"#f0f921\"]], \"type\": \"heatmapgl\"}], \"histogram\": [{\"marker\": {\"colorbar\": {\"outlinewidth\": 0, \"ticks\": \"\"}}, \"type\": \"histogram\"}], \"histogram2d\": [{\"colorbar\": {\"outlinewidth\": 0, \"ticks\": \"\"}, \"colorscale\": [[0.0, \"#0d0887\"], [0.1111111111111111, \"#46039f\"], [0.2222222222222222, \"#7201a8\"], [0.3333333333333333, \"#9c179e\"], [0.4444444444444444, \"#bd3786\"], [0.5555555555555556, \"#d8576b\"], [0.6666666666666666, \"#ed7953\"], [0.7777777777777778, \"#fb9f3a\"], [0.8888888888888888, \"#fdca26\"], [1.0, \"#f0f921\"]], \"type\": \"histogram2d\"}], \"histogram2dcontour\": [{\"colorbar\": {\"outlinewidth\": 0, \"ticks\": \"\"}, \"colorscale\": [[0.0, \"#0d0887\"], [0.1111111111111111, \"#46039f\"], [0.2222222222222222, \"#7201a8\"], [0.3333333333333333, \"#9c179e\"], [0.4444444444444444, \"#bd3786\"], [0.5555555555555556, \"#d8576b\"], [0.6666666666666666, \"#ed7953\"], [0.7777777777777778, \"#fb9f3a\"], [0.8888888888888888, \"#fdca26\"], [1.0, \"#f0f921\"]], \"type\": \"histogram2dcontour\"}], \"mesh3d\": [{\"colorbar\": {\"outlinewidth\": 0, \"ticks\": \"\"}, \"type\": \"mesh3d\"}], \"parcoords\": [{\"line\": {\"colorbar\": {\"outlinewidth\": 0, \"ticks\": \"\"}}, \"type\": \"parcoords\"}], \"pie\": [{\"automargin\": true, \"type\": \"pie\"}], \"scatter\": [{\"marker\": {\"colorbar\": {\"outlinewidth\": 0, \"ticks\": \"\"}}, \"type\": \"scatter\"}], \"scatter3d\": [{\"line\": {\"colorbar\": {\"outlinewidth\": 0, \"ticks\": \"\"}}, \"marker\": {\"colorbar\": {\"outlinewidth\": 0, \"ticks\": \"\"}}, \"type\": \"scatter3d\"}], \"scattercarpet\": [{\"marker\": {\"colorbar\": {\"outlinewidth\": 0, \"ticks\": \"\"}}, \"type\": \"scattercarpet\"}], \"scattergeo\": [{\"marker\": {\"colorbar\": {\"outlinewidth\": 0, \"ticks\": \"\"}}, \"type\": \"scattergeo\"}], \"scattergl\": [{\"marker\": {\"colorbar\": {\"outlinewidth\": 0, \"ticks\": \"\"}}, \"type\": \"scattergl\"}], \"scattermapbox\": [{\"marker\": {\"colorbar\": {\"outlinewidth\": 0, \"ticks\": \"\"}}, \"type\": \"scattermapbox\"}], \"scatterpolar\": [{\"marker\": {\"colorbar\": {\"outlinewidth\": 0, \"ticks\": \"\"}}, \"type\": \"scatterpolar\"}], \"scatterpolargl\": [{\"marker\": {\"colorbar\": {\"outlinewidth\": 0, \"ticks\": \"\"}}, \"type\": \"scatterpolargl\"}], \"scatterternary\": [{\"marker\": {\"colorbar\": {\"outlinewidth\": 0, \"ticks\": \"\"}}, \"type\": \"scatterternary\"}], \"surface\": [{\"colorbar\": {\"outlinewidth\": 0, \"ticks\": \"\"}, \"colorscale\": [[0.0, \"#0d0887\"], [0.1111111111111111, \"#46039f\"], [0.2222222222222222, \"#7201a8\"], [0.3333333333333333, \"#9c179e\"], [0.4444444444444444, \"#bd3786\"], [0.5555555555555556, \"#d8576b\"], [0.6666666666666666, \"#ed7953\"], [0.7777777777777778, \"#fb9f3a\"], [0.8888888888888888, \"#fdca26\"], [1.0, \"#f0f921\"]], \"type\": \"surface\"}], \"table\": [{\"cells\": {\"fill\": {\"color\": \"#EBF0F8\"}, \"line\": {\"color\": \"white\"}}, \"header\": {\"fill\": {\"color\": \"#C8D4E3\"}, \"line\": {\"color\": \"white\"}}, \"type\": \"table\"}]}, \"layout\": {\"annotationdefaults\": {\"arrowcolor\": \"#2a3f5f\", \"arrowhead\": 0, \"arrowwidth\": 1}, \"autotypenumbers\": \"strict\", \"coloraxis\": {\"colorbar\": {\"outlinewidth\": 0, \"ticks\": \"\"}}, \"colorscale\": {\"diverging\": [[0, \"#8e0152\"], [0.1, \"#c51b7d\"], [0.2, \"#de77ae\"], [0.3, \"#f1b6da\"], [0.4, \"#fde0ef\"], [0.5, \"#f7f7f7\"], [0.6, \"#e6f5d0\"], [0.7, \"#b8e186\"], [0.8, \"#7fbc41\"], [0.9, \"#4d9221\"], [1, \"#276419\"]], \"sequential\": [[0.0, \"#0d0887\"], [0.1111111111111111, \"#46039f\"], [0.2222222222222222, \"#7201a8\"], [0.3333333333333333, \"#9c179e\"], [0.4444444444444444, \"#bd3786\"], [0.5555555555555556, \"#d8576b\"], [0.6666666666666666, \"#ed7953\"], [0.7777777777777778, \"#fb9f3a\"], [0.8888888888888888, \"#fdca26\"], [1.0, \"#f0f921\"]], \"sequentialminus\": [[0.0, \"#0d0887\"], [0.1111111111111111, \"#46039f\"], [0.2222222222222222, \"#7201a8\"], [0.3333333333333333, \"#9c179e\"], [0.4444444444444444, \"#bd3786\"], [0.5555555555555556, \"#d8576b\"], [0.6666666666666666, \"#ed7953\"], [0.7777777777777778, \"#fb9f3a\"], [0.8888888888888888, \"#fdca26\"], [1.0, \"#f0f921\"]]}, \"colorway\": [\"#636efa\", \"#EF553B\", \"#00cc96\", \"#ab63fa\", \"#FFA15A\", \"#19d3f3\", \"#FF6692\", \"#B6E880\", \"#FF97FF\", \"#FECB52\"], \"font\": {\"color\": \"#2a3f5f\"}, \"geo\": {\"bgcolor\": \"white\", \"lakecolor\": \"white\", \"landcolor\": \"white\", \"showlakes\": true, \"showland\": true, \"subunitcolor\": \"#C8D4E3\"}, \"hoverlabel\": {\"align\": \"left\"}, \"hovermode\": \"closest\", \"mapbox\": {\"style\": \"light\"}, \"paper_bgcolor\": \"white\", \"plot_bgcolor\": \"white\", \"polar\": {\"angularaxis\": {\"gridcolor\": \"#EBF0F8\", \"linecolor\": \"#EBF0F8\", \"ticks\": \"\"}, \"bgcolor\": \"white\", \"radialaxis\": {\"gridcolor\": \"#EBF0F8\", \"linecolor\": \"#EBF0F8\", \"ticks\": \"\"}}, \"scene\": {\"xaxis\": {\"backgroundcolor\": \"white\", \"gridcolor\": \"#DFE8F3\", \"gridwidth\": 2, \"linecolor\": \"#EBF0F8\", \"showbackground\": true, \"ticks\": \"\", \"zerolinecolor\": \"#EBF0F8\"}, \"yaxis\": {\"backgroundcolor\": \"white\", \"gridcolor\": \"#DFE8F3\", \"gridwidth\": 2, \"linecolor\": \"#EBF0F8\", \"showbackground\": true, \"ticks\": \"\", \"zerolinecolor\": \"#EBF0F8\"}, \"zaxis\": {\"backgroundcolor\": \"white\", \"gridcolor\": \"#DFE8F3\", \"gridwidth\": 2, \"linecolor\": \"#EBF0F8\", \"showbackground\": true, \"ticks\": \"\", \"zerolinecolor\": \"#EBF0F8\"}}, \"shapedefaults\": {\"line\": {\"color\": \"#2a3f5f\"}}, \"ternary\": {\"aaxis\": {\"gridcolor\": \"#DFE8F3\", \"linecolor\": \"#A2B1C6\", \"ticks\": \"\"}, \"baxis\": {\"gridcolor\": \"#DFE8F3\", \"linecolor\": \"#A2B1C6\", \"ticks\": \"\"}, \"bgcolor\": \"white\", \"caxis\": {\"gridcolor\": \"#DFE8F3\", \"linecolor\": \"#A2B1C6\", \"ticks\": \"\"}}, \"title\": {\"x\": 0.05}, \"xaxis\": {\"automargin\": true, \"gridcolor\": \"#EBF0F8\", \"linecolor\": \"#EBF0F8\", \"ticks\": \"\", \"title\": {\"standoff\": 15}, \"zerolinecolor\": \"#EBF0F8\", \"zerolinewidth\": 2}, \"yaxis\": {\"automargin\": true, \"gridcolor\": \"#EBF0F8\", \"linecolor\": \"#EBF0F8\", \"ticks\": \"\", \"title\": {\"standoff\": 15}, \"zerolinecolor\": \"#EBF0F8\", \"zerolinewidth\": 2}}}, \"width\": 1200, \"xaxis\": {\"anchor\": \"y\", \"constrain\": \"domain\", \"domain\": [0.0, 1.0], \"scaleanchor\": \"y\"}, \"yaxis\": {\"anchor\": \"x\", \"autorange\": \"reversed\", \"constrain\": \"domain\", \"domain\": [0.0, 1.0]}},                        {\"responsive\": true}                    ).then(function(){\n",
       "                            \n",
       "var gd = document.getElementById('18c24ba3-53a5-47b1-8a96-2a206a1f79dc');\n",
       "var x = new MutationObserver(function (mutations, observer) {{\n",
       "        var display = window.getComputedStyle(gd).display;\n",
       "        if (!display || display === 'none') {{\n",
       "            console.log([gd, 'removed!']);\n",
       "            Plotly.purge(gd);\n",
       "            observer.disconnect();\n",
       "        }}\n",
       "}});\n",
       "\n",
       "// Listen for the removal of the full notebook cells\n",
       "var notebookContainer = gd.closest('#notebook-container');\n",
       "if (notebookContainer) {{\n",
       "    x.observe(notebookContainer, {childList: true});\n",
       "}}\n",
       "\n",
       "// Listen for the clearing of the current output cell\n",
       "var outputEl = gd.closest('.output');\n",
       "if (outputEl) {{\n",
       "    x.observe(outputEl, {childList: true});\n",
       "}}\n",
       "\n",
       "                        })                };                });            </script>        </div>"
      ]
     },
     "metadata": {},
     "output_type": "display_data"
    },
    {
     "name": "stdout",
     "output_type": "stream",
     "text": [
      "time: 230 ms (started: 2021-08-17 14:36:37 -07:00)\n"
     ]
    }
   ],
   "source": [
    "px.imshow(train_data.corr())"
   ]
  },
  {
   "cell_type": "code",
   "execution_count": 13,
   "id": "a05704fd-083e-40b6-92fd-e734dd48ebde",
   "metadata": {},
   "outputs": [
    {
     "data": {
      "text/plain": [
       "id        0.000480\n",
       "cont0     0.028819\n",
       "cont1    -0.002096\n",
       "cont2     0.034280\n",
       "cont3    -0.022759\n",
       "cont4    -0.023132\n",
       "cont5    -0.015058\n",
       "cont6    -0.013807\n",
       "cont7     0.035143\n",
       "cont8     0.017740\n",
       "cont9    -0.015726\n",
       "cont10    0.052468\n",
       "cont11    0.033378\n",
       "cont12    0.055829\n",
       "cont13   -0.028189\n",
       "dtype: float64"
      ]
     },
     "execution_count": 13,
     "metadata": {},
     "output_type": "execute_result"
    },
    {
     "name": "stdout",
     "output_type": "stream",
     "text": [
      "time: 84.8 ms (started: 2021-08-17 14:37:03 -07:00)\n"
     ]
    }
   ],
   "source": [
    "X.corrwith(y)"
   ]
  },
  {
   "cell_type": "markdown",
   "id": "12f70016-2768-4bde-a853-52fe1bed7d6b",
   "metadata": {},
   "source": [
    "---\n",
    "\n",
    "### Categorical Data"
   ]
  },
  {
   "cell_type": "code",
   "execution_count": null,
   "id": "6b8e5ed1-e888-481b-a623-149887be73ee",
   "metadata": {},
   "outputs": [],
   "source": []
  },
  {
   "cell_type": "markdown",
   "id": "f395c6c0-d571-4501-908c-4608fe2e0f51",
   "metadata": {},
   "source": [
    "---\n",
    "\n",
    "## Feature Engineering\n",
    "\n",
    "The Goals of feature engineering:\n",
    "- improve a model's predictive performance\n",
    "- reduce computational or data needs\n",
    "- improve interpretability of the results\n",
    "\n",
    "The possible ways of feature engineering:\n",
    "- Creating new features\n",
    "- K-means clustering\n",
    "- Pinciple Component Analysis\n",
    "\n",
    "Metric of feature engineering:\n",
    "- Mutual Information"
   ]
  },
  {
   "cell_type": "markdown",
   "id": "7fa52567-b3fd-4492-b244-69f7cc448f18",
   "metadata": {},
   "source": [
    "---\n",
    "\n",
    "### Mutual Information"
   ]
  },
  {
   "cell_type": "code",
   "execution_count": 19,
   "id": "52ec6d58-8863-4f62-b4c0-f0cd69669f13",
   "metadata": {},
   "outputs": [
    {
     "data": {
      "text/plain": [
       "cont12    0.021699\n",
       "cont2     0.009703\n",
       "cont8     0.008054\n",
       "cont11    0.005455\n",
       "cont13    0.001485\n",
       "Name: MI Scores, dtype: float64"
      ]
     },
     "execution_count": 19,
     "metadata": {},
     "output_type": "execute_result"
    },
    {
     "name": "stdout",
     "output_type": "stream",
     "text": [
      "time: 2min 3s (started: 2021-08-17 14:41:48 -07:00)\n"
     ]
    }
   ],
   "source": [
    "from sklearn.feature_selection import mutual_info_regression\n",
    "\n",
    "def make_mi_scores(X, y, discrete_features):\n",
    "    mi_scores = mutual_info_regression(X, y, discrete_features=discrete_features)\n",
    "    mi_scores = pd.Series(mi_scores, name=\"MI Scores\", index=X.columns)\n",
    "    mi_scores = mi_scores.sort_values(ascending=False)\n",
    "    return mi_scores\n",
    "\n",
    "mi_scores = make_mi_scores(X[num_cols], y, False)\n",
    "mi_scores[::3]  # show a few features with their MI scores"
   ]
  },
  {
   "cell_type": "code",
   "execution_count": 17,
   "id": "1c6dd799-218f-4849-b777-30be85d4a00e",
   "metadata": {},
   "outputs": [
    {
     "data": {
      "text/plain": [
       "array([0.        , 0.00735732, 0.00125065, 0.00970292, 0.00498537,\n",
       "       0.00880145, 0.0039533 , 0.00571589, 0.00952601, 0.0080541 ,\n",
       "       0.01210391, 0.01848569, 0.00545539, 0.02169892, 0.0014853 ])"
      ]
     },
     "execution_count": 17,
     "metadata": {},
     "output_type": "execute_result"
    },
    {
     "name": "stdout",
     "output_type": "stream",
     "text": [
      "time: 2min 11s (started: 2021-08-17 14:38:27 -07:00)\n"
     ]
    }
   ],
   "source": [
    "# Review the MI score from the raw numerical data\n",
    "mi_scores = make_mi_scores(X[num_cols], y, False)\n",
    "mi_scores[::3]  # show a few features with their MI scores"
   ]
  },
  {
   "cell_type": "code",
   "execution_count": 16,
   "id": "d65ab33d-a029-4ded-9031-830d04aae30e",
   "metadata": {},
   "outputs": [
    {
     "data": {
      "text/html": [
       "<div>\n",
       "<style scoped>\n",
       "    .dataframe tbody tr th:only-of-type {\n",
       "        vertical-align: middle;\n",
       "    }\n",
       "\n",
       "    .dataframe tbody tr th {\n",
       "        vertical-align: top;\n",
       "    }\n",
       "\n",
       "    .dataframe thead th {\n",
       "        text-align: right;\n",
       "    }\n",
       "</style>\n",
       "<table border=\"1\" class=\"dataframe\">\n",
       "  <thead>\n",
       "    <tr style=\"text-align: left;\">\n",
       "      <th></th>\n",
       "      <th>id</th>\n",
       "      <th>cat0</th>\n",
       "      <th>cat1</th>\n",
       "      <th>cat2</th>\n",
       "      <th>cat3</th>\n",
       "      <th>cat4</th>\n",
       "      <th>cat5</th>\n",
       "      <th>cat6</th>\n",
       "      <th>cat7</th>\n",
       "      <th>cat8</th>\n",
       "      <th>...</th>\n",
       "      <th>cont4</th>\n",
       "      <th>cont5</th>\n",
       "      <th>cont6</th>\n",
       "      <th>cont7</th>\n",
       "      <th>cont8</th>\n",
       "      <th>cont9</th>\n",
       "      <th>cont10</th>\n",
       "      <th>cont11</th>\n",
       "      <th>cont12</th>\n",
       "      <th>cont13</th>\n",
       "    </tr>\n",
       "  </thead>\n",
       "  <tbody>\n",
       "    <tr>\n",
       "      <th>0</th>\n",
       "      <td>1</td>\n",
       "      <td>B</td>\n",
       "      <td>B</td>\n",
       "      <td>B</td>\n",
       "      <td>C</td>\n",
       "      <td>B</td>\n",
       "      <td>B</td>\n",
       "      <td>A</td>\n",
       "      <td>E</td>\n",
       "      <td>C</td>\n",
       "      <td>...</td>\n",
       "      <td>0.610706</td>\n",
       "      <td>0.400361</td>\n",
       "      <td>0.160266</td>\n",
       "      <td>0.310921</td>\n",
       "      <td>0.389470</td>\n",
       "      <td>0.267559</td>\n",
       "      <td>0.237281</td>\n",
       "      <td>0.377873</td>\n",
       "      <td>0.322401</td>\n",
       "      <td>0.869850</td>\n",
       "    </tr>\n",
       "    <tr>\n",
       "      <th>1</th>\n",
       "      <td>2</td>\n",
       "      <td>B</td>\n",
       "      <td>B</td>\n",
       "      <td>A</td>\n",
       "      <td>A</td>\n",
       "      <td>B</td>\n",
       "      <td>D</td>\n",
       "      <td>A</td>\n",
       "      <td>F</td>\n",
       "      <td>A</td>\n",
       "      <td>...</td>\n",
       "      <td>0.276853</td>\n",
       "      <td>0.533087</td>\n",
       "      <td>0.558922</td>\n",
       "      <td>0.516294</td>\n",
       "      <td>0.594928</td>\n",
       "      <td>0.341439</td>\n",
       "      <td>0.906013</td>\n",
       "      <td>0.921701</td>\n",
       "      <td>0.261975</td>\n",
       "      <td>0.465083</td>\n",
       "    </tr>\n",
       "    <tr>\n",
       "      <th>2</th>\n",
       "      <td>3</td>\n",
       "      <td>A</td>\n",
       "      <td>A</td>\n",
       "      <td>A</td>\n",
       "      <td>C</td>\n",
       "      <td>B</td>\n",
       "      <td>D</td>\n",
       "      <td>A</td>\n",
       "      <td>D</td>\n",
       "      <td>A</td>\n",
       "      <td>...</td>\n",
       "      <td>0.285074</td>\n",
       "      <td>0.650609</td>\n",
       "      <td>0.375348</td>\n",
       "      <td>0.902567</td>\n",
       "      <td>0.555205</td>\n",
       "      <td>0.843531</td>\n",
       "      <td>0.748809</td>\n",
       "      <td>0.620126</td>\n",
       "      <td>0.541474</td>\n",
       "      <td>0.763846</td>\n",
       "    </tr>\n",
       "    <tr>\n",
       "      <th>3</th>\n",
       "      <td>4</td>\n",
       "      <td>B</td>\n",
       "      <td>B</td>\n",
       "      <td>A</td>\n",
       "      <td>C</td>\n",
       "      <td>B</td>\n",
       "      <td>D</td>\n",
       "      <td>A</td>\n",
       "      <td>E</td>\n",
       "      <td>C</td>\n",
       "      <td>...</td>\n",
       "      <td>0.284667</td>\n",
       "      <td>0.668980</td>\n",
       "      <td>0.239061</td>\n",
       "      <td>0.732948</td>\n",
       "      <td>0.679618</td>\n",
       "      <td>0.574844</td>\n",
       "      <td>0.346010</td>\n",
       "      <td>0.714610</td>\n",
       "      <td>0.540150</td>\n",
       "      <td>0.280682</td>\n",
       "    </tr>\n",
       "    <tr>\n",
       "      <th>4</th>\n",
       "      <td>6</td>\n",
       "      <td>A</td>\n",
       "      <td>A</td>\n",
       "      <td>A</td>\n",
       "      <td>C</td>\n",
       "      <td>B</td>\n",
       "      <td>D</td>\n",
       "      <td>A</td>\n",
       "      <td>E</td>\n",
       "      <td>A</td>\n",
       "      <td>...</td>\n",
       "      <td>0.287595</td>\n",
       "      <td>0.686964</td>\n",
       "      <td>0.420667</td>\n",
       "      <td>0.648182</td>\n",
       "      <td>0.684501</td>\n",
       "      <td>0.956692</td>\n",
       "      <td>1.000773</td>\n",
       "      <td>0.776742</td>\n",
       "      <td>0.625849</td>\n",
       "      <td>0.250823</td>\n",
       "    </tr>\n",
       "    <tr>\n",
       "      <th>...</th>\n",
       "      <td>...</td>\n",
       "      <td>...</td>\n",
       "      <td>...</td>\n",
       "      <td>...</td>\n",
       "      <td>...</td>\n",
       "      <td>...</td>\n",
       "      <td>...</td>\n",
       "      <td>...</td>\n",
       "      <td>...</td>\n",
       "      <td>...</td>\n",
       "      <td>...</td>\n",
       "      <td>...</td>\n",
       "      <td>...</td>\n",
       "      <td>...</td>\n",
       "      <td>...</td>\n",
       "      <td>...</td>\n",
       "      <td>...</td>\n",
       "      <td>...</td>\n",
       "      <td>...</td>\n",
       "      <td>...</td>\n",
       "      <td>...</td>\n",
       "    </tr>\n",
       "    <tr>\n",
       "      <th>299995</th>\n",
       "      <td>499993</td>\n",
       "      <td>B</td>\n",
       "      <td>B</td>\n",
       "      <td>A</td>\n",
       "      <td>A</td>\n",
       "      <td>B</td>\n",
       "      <td>D</td>\n",
       "      <td>A</td>\n",
       "      <td>E</td>\n",
       "      <td>A</td>\n",
       "      <td>...</td>\n",
       "      <td>0.307883</td>\n",
       "      <td>0.769792</td>\n",
       "      <td>0.450538</td>\n",
       "      <td>0.934360</td>\n",
       "      <td>1.005077</td>\n",
       "      <td>0.853726</td>\n",
       "      <td>0.422541</td>\n",
       "      <td>1.063463</td>\n",
       "      <td>0.697685</td>\n",
       "      <td>0.506404</td>\n",
       "    </tr>\n",
       "    <tr>\n",
       "      <th>299996</th>\n",
       "      <td>499996</td>\n",
       "      <td>A</td>\n",
       "      <td>B</td>\n",
       "      <td>A</td>\n",
       "      <td>C</td>\n",
       "      <td>B</td>\n",
       "      <td>B</td>\n",
       "      <td>A</td>\n",
       "      <td>E</td>\n",
       "      <td>E</td>\n",
       "      <td>...</td>\n",
       "      <td>0.736713</td>\n",
       "      <td>0.528056</td>\n",
       "      <td>0.508502</td>\n",
       "      <td>0.358247</td>\n",
       "      <td>0.257825</td>\n",
       "      <td>0.433525</td>\n",
       "      <td>0.301015</td>\n",
       "      <td>0.268447</td>\n",
       "      <td>0.577055</td>\n",
       "      <td>0.823611</td>\n",
       "    </tr>\n",
       "    <tr>\n",
       "      <th>299997</th>\n",
       "      <td>499997</td>\n",
       "      <td>B</td>\n",
       "      <td>B</td>\n",
       "      <td>A</td>\n",
       "      <td>C</td>\n",
       "      <td>B</td>\n",
       "      <td>C</td>\n",
       "      <td>A</td>\n",
       "      <td>E</td>\n",
       "      <td>G</td>\n",
       "      <td>...</td>\n",
       "      <td>0.277074</td>\n",
       "      <td>0.688747</td>\n",
       "      <td>0.372425</td>\n",
       "      <td>0.364936</td>\n",
       "      <td>0.383224</td>\n",
       "      <td>0.551825</td>\n",
       "      <td>0.661007</td>\n",
       "      <td>0.629606</td>\n",
       "      <td>0.714139</td>\n",
       "      <td>0.245732</td>\n",
       "    </tr>\n",
       "    <tr>\n",
       "      <th>299998</th>\n",
       "      <td>499998</td>\n",
       "      <td>A</td>\n",
       "      <td>B</td>\n",
       "      <td>A</td>\n",
       "      <td>C</td>\n",
       "      <td>B</td>\n",
       "      <td>B</td>\n",
       "      <td>A</td>\n",
       "      <td>E</td>\n",
       "      <td>E</td>\n",
       "      <td>...</td>\n",
       "      <td>0.805963</td>\n",
       "      <td>0.344404</td>\n",
       "      <td>0.424243</td>\n",
       "      <td>0.382028</td>\n",
       "      <td>0.468819</td>\n",
       "      <td>0.351036</td>\n",
       "      <td>0.288768</td>\n",
       "      <td>0.611169</td>\n",
       "      <td>0.380254</td>\n",
       "      <td>0.332030</td>\n",
       "    </tr>\n",
       "    <tr>\n",
       "      <th>299999</th>\n",
       "      <td>499999</td>\n",
       "      <td>A</td>\n",
       "      <td>A</td>\n",
       "      <td>A</td>\n",
       "      <td>C</td>\n",
       "      <td>A</td>\n",
       "      <td>D</td>\n",
       "      <td>A</td>\n",
       "      <td>E</td>\n",
       "      <td>A</td>\n",
       "      <td>...</td>\n",
       "      <td>0.276785</td>\n",
       "      <td>0.565347</td>\n",
       "      <td>0.328669</td>\n",
       "      <td>0.789165</td>\n",
       "      <td>0.960406</td>\n",
       "      <td>0.776019</td>\n",
       "      <td>0.734707</td>\n",
       "      <td>0.484392</td>\n",
       "      <td>0.639754</td>\n",
       "      <td>0.689317</td>\n",
       "    </tr>\n",
       "  </tbody>\n",
       "</table>\n",
       "<p>300000 rows × 25 columns</p>\n",
       "</div>"
      ],
      "text/plain": [
       "        id     cat0 cat1 cat2 cat3 cat4 cat5 cat6 cat7 cat8  ... cont4      \\\n",
       "0            1  B    B    B    C    B    B    A    E    C    ...  0.610706   \n",
       "1            2  B    B    A    A    B    D    A    F    A    ...  0.276853   \n",
       "2            3  A    A    A    C    B    D    A    D    A    ...  0.285074   \n",
       "3            4  B    B    A    C    B    D    A    E    C    ...  0.284667   \n",
       "4            6  A    A    A    C    B    D    A    E    A    ...  0.287595   \n",
       "...        ...  ...  ...  ...  ...  ...  ...  ...  ...  ...  ...       ...   \n",
       "299995  499993  B    B    A    A    B    D    A    E    A    ...  0.307883   \n",
       "299996  499996  A    B    A    C    B    B    A    E    E    ...  0.736713   \n",
       "299997  499997  B    B    A    C    B    C    A    E    G    ...  0.277074   \n",
       "299998  499998  A    B    A    C    B    B    A    E    E    ...  0.805963   \n",
       "299999  499999  A    A    A    C    A    D    A    E    A    ...  0.276785   \n",
       "\n",
       "        cont5     cont6     cont7     cont8     cont9     cont10    cont11    \\\n",
       "0       0.400361  0.160266  0.310921  0.389470  0.267559  0.237281  0.377873   \n",
       "1       0.533087  0.558922  0.516294  0.594928  0.341439  0.906013  0.921701   \n",
       "2       0.650609  0.375348  0.902567  0.555205  0.843531  0.748809  0.620126   \n",
       "3       0.668980  0.239061  0.732948  0.679618  0.574844  0.346010  0.714610   \n",
       "4       0.686964  0.420667  0.648182  0.684501  0.956692  1.000773  0.776742   \n",
       "...          ...       ...       ...       ...       ...       ...       ...   \n",
       "299995  0.769792  0.450538  0.934360  1.005077  0.853726  0.422541  1.063463   \n",
       "299996  0.528056  0.508502  0.358247  0.257825  0.433525  0.301015  0.268447   \n",
       "299997  0.688747  0.372425  0.364936  0.383224  0.551825  0.661007  0.629606   \n",
       "299998  0.344404  0.424243  0.382028  0.468819  0.351036  0.288768  0.611169   \n",
       "299999  0.565347  0.328669  0.789165  0.960406  0.776019  0.734707  0.484392   \n",
       "\n",
       "        cont12    cont13    \n",
       "0       0.322401  0.869850  \n",
       "1       0.261975  0.465083  \n",
       "2       0.541474  0.763846  \n",
       "3       0.540150  0.280682  \n",
       "4       0.625849  0.250823  \n",
       "...          ...       ...  \n",
       "299995  0.697685  0.506404  \n",
       "299996  0.577055  0.823611  \n",
       "299997  0.714139  0.245732  \n",
       "299998  0.380254  0.332030  \n",
       "299999  0.639754  0.689317  \n",
       "\n",
       "[300000 rows x 25 columns]"
      ]
     },
     "execution_count": 16,
     "metadata": {},
     "output_type": "execute_result"
    },
    {
     "name": "stdout",
     "output_type": "stream",
     "text": [
      "time: 111 ms (started: 2021-08-17 14:38:03 -07:00)\n"
     ]
    }
   ],
   "source": [
    "X"
   ]
  },
  {
   "cell_type": "markdown",
   "id": "fa8ca196-5c51-4142-8b54-558df1fe371c",
   "metadata": {},
   "source": [
    "---\n",
    "\n",
    "## Data Engineering"
   ]
  },
  {
   "cell_type": "code",
   "execution_count": 23,
   "id": "69e15a64-8fa6-40b3-be5b-6339ecf0dcd3",
   "metadata": {},
   "outputs": [
    {
     "name": "stdout",
     "output_type": "stream",
     "text": [
      "time: 426 µs (started: 2021-08-17 14:56:21 -07:00)\n"
     ]
    }
   ],
   "source": [
    "from sklearn.model_selection import train_test_split\n",
    "from sklearn.pipeline import Pipeline\n",
    "from sklearn.impute import SimpleImputer\n",
    "from sklearn.preprocessing import OneHotEncoder\n",
    "from sklearn.preprocessing import OrdinalEncoder\n",
    "from sklearn.compose import ColumnTransformer"
   ]
  },
  {
   "cell_type": "code",
   "execution_count": 28,
   "id": "2ca60a0a-95e6-4b16-a847-beefd0648429",
   "metadata": {},
   "outputs": [
    {
     "name": "stdout",
     "output_type": "stream",
     "text": [
      "time: 56.4 ms (started: 2021-08-17 14:57:35 -07:00)\n"
     ]
    }
   ],
   "source": [
    "# Test numberical data first\n",
    "X_train, X_valid, y_train, y_valid = train_test_split(X[num_cols], y, train_size=0.8, test_size=0.2,\n",
    "                                                                random_state=0)"
   ]
  },
  {
   "cell_type": "markdown",
   "id": "2a21f27f-df30-4a6e-b282-96da8c2fe2e7",
   "metadata": {},
   "source": [
    "---\n",
    "\n",
    "## Modeling\n",
    "\n",
    "### Training"
   ]
  },
  {
   "cell_type": "code",
   "execution_count": 29,
   "id": "8aca8aca-36d5-4f7b-9395-18fca86e2674",
   "metadata": {},
   "outputs": [
    {
     "name": "stdout",
     "output_type": "stream",
     "text": [
      "time: 408 µs (started: 2021-08-17 14:57:37 -07:00)\n"
     ]
    }
   ],
   "source": [
    "from sklearn.ensemble import RandomForestRegressor\n",
    "from sklearn.metrics import mean_squared_error\n",
    "from xgboost import XGBRegressor"
   ]
  },
  {
   "cell_type": "code",
   "execution_count": 31,
   "id": "3a147e4c-59a5-4e74-8238-229a33511f83",
   "metadata": {},
   "outputs": [
    {
     "name": "stdout",
     "output_type": "stream",
     "text": [
      "time: 12 s (started: 2021-08-17 14:58:17 -07:00)\n"
     ]
    }
   ],
   "source": [
    "# Define the model\n",
    "xgb = XGBRegressor(random_state=0)\n",
    "\n",
    "# Fit the model\n",
    "xgb.fit(X_train, y_train)\n",
    "\n",
    "# Prediction\n",
    "pred = xgb.predict(X_valid)\n",
    "\n",
    "# Calculate MAE\n",
    "rmse = mean_absolute_error(y_valid, pred)"
   ]
  },
  {
   "cell_type": "code",
   "execution_count": 32,
   "id": "16ac078e-a9fe-4446-a0a2-f205323f7290",
   "metadata": {},
   "outputs": [
    {
     "name": "stdout",
     "output_type": "stream",
     "text": [
      "0.5772821622641486\n",
      "time: 352 µs (started: 2021-08-17 14:58:39 -07:00)\n"
     ]
    }
   ],
   "source": [
    "print(rmse)"
   ]
  },
  {
   "cell_type": "markdown",
   "id": "e32b5316-0488-4d60-9f05-47786f4c87db",
   "metadata": {},
   "source": [
    "---\n",
    "\n",
    "### Evaluation"
   ]
  },
  {
   "cell_type": "code",
   "execution_count": null,
   "id": "d57dd531-f028-44f4-afa7-047dccd16db9",
   "metadata": {},
   "outputs": [],
   "source": []
  },
  {
   "cell_type": "markdown",
   "id": "f58680a0-a233-4548-8f59-09f6db6c7e56",
   "metadata": {},
   "source": [
    "---\n",
    "\n",
    "## Predictions Submission"
   ]
  },
  {
   "cell_type": "code",
   "execution_count": 36,
   "id": "89ec86f5-47da-49b2-b99b-fc2208c6528c",
   "metadata": {},
   "outputs": [
    {
     "name": "stdout",
     "output_type": "stream",
     "text": [
      "time: 77.1 ms (started: 2021-08-17 15:11:54 -07:00)\n"
     ]
    }
   ],
   "source": [
    "# Try numerical data first\n",
    "test_pred = xgb.predict(test_data[num_cols])"
   ]
  },
  {
   "cell_type": "code",
   "execution_count": null,
   "id": "d5a9e573-5857-4922-9a83-b36ac7afcc12",
   "metadata": {},
   "outputs": [],
   "source": [
    "predictions = pd.DataFrame()\n",
    "predictions[\"id\"] = test_data[\"id\"]\n",
    "predictions[\"target\"] = test_pred\n",
    "\n",
    "predictions.to_csv('submission.csv', index=False, header=predictions.columns)\n",
    "predictions.head()"
   ]
  }
 ],
 "metadata": {
  "kernelspec": {
   "display_name": "Python 3",
   "language": "python",
   "name": "python3"
  },
  "language_info": {
   "codemirror_mode": {
    "name": "ipython",
    "version": 3
   },
   "file_extension": ".py",
   "mimetype": "text/x-python",
   "name": "python",
   "nbconvert_exporter": "python",
   "pygments_lexer": "ipython3",
   "version": "3.9.4"
  }
 },
 "nbformat": 4,
 "nbformat_minor": 5
}
