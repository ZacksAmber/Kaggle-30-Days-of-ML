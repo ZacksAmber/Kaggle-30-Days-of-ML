{
 "cells": [
  {
   "cell_type": "code",
   "execution_count": 1,
   "id": "0abf9896-66c5-4e6c-9fd3-8de3756df27c",
   "metadata": {},
   "outputs": [],
   "source": [
    "# Statistics\n",
    "import pandas as pd\n",
    "import numpy as np\n",
    "import math as mt\n",
    "\n",
    "# Data Visualization\n",
    "import matplotlib.pyplot as plt\n",
    "import seaborn as sns\n",
    "\n",
    "%matplotlib inline\n",
    "\n",
    "# Data Preprocessing - Encoding and Imputation\n",
    "from sklearn.impute import SimpleImputer\n",
    "from sklearn.preprocessing import OneHotEncoder\n",
    "from sklearn.preprocessing import OrdinalEncoder\n",
    "from sklearn.compose import ColumnTransformer\n",
    "from sklearn.pipeline import Pipeline\n",
    "\n",
    "# Data Preprocessing - Feature Engineering\n",
    "from sklearn.feature_selection import mutual_info_regression\n",
    "from sklearn.decomposition import PCA\n",
    "\n",
    "# Data Preprocessing - ML Pipelines\n",
    "from sklearn.compose import ColumnTransformer\n",
    "\n",
    "# ML - Modeling\n",
    "from sklearn.model_selection import train_test_split\n",
    "from sklearn.metrics import mean_squared_error\n",
    "from xgboost import XGBRegressor\n",
    "from sklearn.ensemble import RandomForestRegressor\n",
    "from xgboost import XGBRegressor\n",
    "\n",
    "# ML - Evaluation\n",
    "from sklearn.model_selection import cross_val_score\n",
    "\n",
    "# ML - Tuning\n",
    "from sklearn.model_selection import GridSearchCV"
   ]
  },
  {
   "cell_type": "code",
   "execution_count": 2,
   "id": "c5ebfa95-ab88-42e3-b783-19dfda7c8410",
   "metadata": {},
   "outputs": [],
   "source": [
    "# Read train dataset\n",
    "train_data = pd.read_csv('data/train_fold.csv')\n",
    "test_data = pd.read_csv('data/test.csv')\n",
    "sample_submission = pd.read_csv('data/sample_submission.csv')"
   ]
  },
  {
   "cell_type": "code",
   "execution_count": 5,
   "id": "700e8882-737f-476e-b8e3-4e28228c3e57",
   "metadata": {},
   "outputs": [
    {
     "name": "stdout",
     "output_type": "stream",
     "text": [
      "0 0.7242812912900478\n",
      "1 0.7232810321072864\n",
      "2 0.725452249623988\n",
      "3 0.725286377838993\n",
      "4 0.7242629367174095\n",
      "0.7245127775155449 0.0007892107894289242\n",
      "CPU times: user 11min 57s, sys: 6.93 s, total: 12min 4s\n",
      "Wall time: 1min 37s\n"
     ]
    }
   ],
   "source": [
    "%%time\n",
    "useful_features = [col for col in train_data.columns if col not in (\"id\", \"target\", \"kfold\")]\n",
    "cat_cols = [col for col in useful_features if \"cat\" in col]\n",
    "test_data = test_data[useful_features]\n",
    "\n",
    "final_predictions = []\n",
    "scores = []\n",
    "\n",
    "for fold in range(5):\n",
    "    X_train = train_data[train_data.kfold != fold].reset_index(drop=True)\n",
    "    X_valid = train_data[train_data.kfold == fold].reset_index(drop=True)\n",
    "    X_test = test_data.copy()\n",
    "    \n",
    "    y_train = X_train.target\n",
    "    y_valid = X_valid.target\n",
    "    \n",
    "    X_train = X_train[useful_features]\n",
    "    X_valid = X_valid[useful_features]\n",
    "    \n",
    "    #print(\"encoding\")\n",
    "    ordinal_encoder = OrdinalEncoder()\n",
    "    X_train[cat_cols] = ordinal_encoder.fit_transform(X_train[cat_cols])\n",
    "    X_valid[cat_cols] = ordinal_encoder.transform(X_valid[cat_cols])\n",
    "    X_test[cat_cols] = ordinal_encoder.transform(X_test[cat_cols]) # Q. The last transform\n",
    "    \n",
    "    #print(\"training\")\n",
    "    #model = RandomForestRegressor(random_state=fold, n_jobs=-1)\n",
    "    #model = XGBRegressor(random_state=fold, tree_method='gpu_hist', gpu_id=0, predictor='gpu_predictor')\n",
    "    model = XGBRegressor(random_state=fold, n_jobs=8)\n",
    "    model.fit(X_train, y_train)\n",
    "    preds_valid = model.predict(X_valid)\n",
    "    test_preds = model.predict(X_test)\n",
    "    final_predictions.append(test_preds)\n",
    "    rmse = mean_squared_error(y_valid, preds_valid, squared=False)\n",
    "    \n",
    "    print(fold, rmse)\n",
    "    scores.append(rmse)\n",
    "\n",
    "print(np.mean(scores), np.std(scores))"
   ]
  },
  {
   "cell_type": "code",
   "execution_count": null,
   "id": "2de68167-59b3-47a3-8c31-2399c7ab06f7",
   "metadata": {},
   "outputs": [],
   "source": []
  }
 ],
 "metadata": {
  "kernelspec": {
   "display_name": "Python 3",
   "language": "python",
   "name": "python3"
  },
  "language_info": {
   "codemirror_mode": {
    "name": "ipython",
    "version": 3
   },
   "file_extension": ".py",
   "mimetype": "text/x-python",
   "name": "python",
   "nbconvert_exporter": "python",
   "pygments_lexer": "ipython3",
   "version": "3.9.4"
  }
 },
 "nbformat": 4,
 "nbformat_minor": 5
}
